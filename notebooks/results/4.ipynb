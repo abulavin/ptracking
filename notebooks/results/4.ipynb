{
 "cells": [
  {
   "cell_type": "markdown",
   "metadata": {},
   "source": [
    "##### IMPORTS"
   ]
  },
  {
   "cell_type": "code",
   "execution_count": 1,
   "metadata": {},
   "outputs": [],
   "source": [
    "from ptracking.topic.lda_tomoto import *\n",
    "from ptracking.predict import Dataset\n",
    "from ptracking.sentiment.corenlp import sentiment, ner\n",
    "from ptracking.database.database import Fetcher\n",
    "from ptracking.twitter_scraper.twitter_scraper import TwitterFetcher\n",
    "\n",
    "import numpy as np\n",
    "\n",
    "from sklearn.neural_network import MLPClassifier\n",
    "from sklearn.neighbors import KNeighborsClassifier\n",
    "from sklearn.model_selection import StratifiedKFold, TimeSeriesSplit\n",
    "from sklearn.naive_bayes import ComplementNB\n",
    "from sklearn.tree import DecisionTreeClassifier\n",
    "from sklearn.ensemble import RandomForestClassifier\n",
    "from sklearn.svm import SVC\n",
    "from sklearn.metrics import matthews_corrcoef, accuracy_score, f1_score, ConfusionMatrixDisplay\n",
    "\n",
    "from xgboost import XGBClassifier\n",
    "\n",
    "skf = StratifiedKFold()\n",
    "tss = TimeSeriesSplit()"
   ]
  },
  {
   "cell_type": "markdown",
   "metadata": {},
   "source": [
    "Get features"
   ]
  },
  {
   "cell_type": "code",
   "execution_count": 15,
   "metadata": {},
   "outputs": [
    {
     "name": "stdout",
     "output_type": "stream",
     "text": [
      "Topic Model Training...\n",
      "\n",
      "\n",
      "Iteration: 0\tLog-likelihood: -8.299222453641015\n",
      "Iteration: 1\tLog-likelihood: -8.135636768746137\n",
      "Iteration: 2\tLog-likelihood: -8.048434561388241\n",
      "Iteration: 3\tLog-likelihood: -7.98726941815681\n",
      "Iteration: 4\tLog-likelihood: -7.942028062685417\n",
      "Iteration: 5\tLog-likelihood: -7.906888748958871\n",
      "Iteration: 6\tLog-likelihood: -7.879725146149147\n",
      "Iteration: 7\tLog-likelihood: -7.857316126983105\n",
      "Iteration: 8\tLog-likelihood: -7.838760095745315\n",
      "Iteration: 9\tLog-likelihood: -7.825056965957151\n",
      "Iteration: 10\tLog-likelihood: -7.813368348998341\n",
      "Iteration: 11\tLog-likelihood: -7.801556159257291\n",
      "Iteration: 12\tLog-likelihood: -7.791963702670673\n",
      "Iteration: 13\tLog-likelihood: -7.78606729046652\n",
      "Iteration: 14\tLog-likelihood: -7.783151121642993\n",
      "Iteration: 15\tLog-likelihood: -7.773777149820754\n",
      "Iteration: 16\tLog-likelihood: -7.76808229120259\n",
      "Iteration: 17\tLog-likelihood: -7.766999572804021\n",
      "Iteration: 18\tLog-likelihood: -7.762367807551528\n",
      "Iteration: 19\tLog-likelihood: -7.760230737364226\n",
      "Iteration: 20\tLog-likelihood: -7.756025099592806\n",
      "Iteration: 21\tLog-likelihood: -7.752599735124979\n",
      "Iteration: 22\tLog-likelihood: -7.751353564934152\n",
      "Iteration: 23\tLog-likelihood: -7.748592355307031\n",
      "Iteration: 24\tLog-likelihood: -7.746200513096787\n",
      "Iteration: 25\tLog-likelihood: -7.743009842293357\n",
      "Iteration: 26\tLog-likelihood: -7.742131935569549\n",
      "Iteration: 27\tLog-likelihood: -7.739647399190274\n",
      "Iteration: 28\tLog-likelihood: -7.739011272691393\n",
      "Iteration: 29\tLog-likelihood: -7.738764264441273\n",
      "Iteration: 30\tLog-likelihood: -7.735269792778251\n",
      "Iteration: 31\tLog-likelihood: -7.736247348431159\n",
      "Iteration: 32\tLog-likelihood: -7.7353001138274315\n",
      "Iteration: 33\tLog-likelihood: -7.7337850918976105\n",
      "Iteration: 34\tLog-likelihood: -7.733200117930978\n",
      "Iteration: 35\tLog-likelihood: -7.734412728991404\n",
      "Iteration: 36\tLog-likelihood: -7.731342382622262\n",
      "Iteration: 37\tLog-likelihood: -7.729279962546748\n",
      "Iteration: 38\tLog-likelihood: -7.728839073796816\n",
      "Iteration: 39\tLog-likelihood: -7.729100553428448\n",
      "Iteration: 40\tLog-likelihood: -7.727803034463455\n",
      "Iteration: 41\tLog-likelihood: -7.728665209462549\n",
      "Iteration: 42\tLog-likelihood: -7.725696980594295\n",
      "Iteration: 43\tLog-likelihood: -7.724334832485623\n",
      "Iteration: 44\tLog-likelihood: -7.724339863612407\n",
      "Iteration: 45\tLog-likelihood: -7.723487037912754\n",
      "Iteration: 46\tLog-likelihood: -7.722919707536525\n",
      "Iteration: 47\tLog-likelihood: -7.720138215765578\n",
      "Iteration: 48\tLog-likelihood: -7.716776757479594\n",
      "Iteration: 49\tLog-likelihood: -7.717685256725665\n",
      "Iteration: 50\tLog-likelihood: -7.714145507563092\n",
      "Iteration: 51\tLog-likelihood: -7.712881793159656\n",
      "Iteration: 52\tLog-likelihood: -7.714198164505816\n",
      "Iteration: 53\tLog-likelihood: -7.711739371216837\n",
      "Iteration: 54\tLog-likelihood: -7.710702770991286\n",
      "Iteration: 55\tLog-likelihood: -7.710488779900039\n",
      "Iteration: 56\tLog-likelihood: -7.7088127216966935\n",
      "Iteration: 57\tLog-likelihood: -7.7091986764056095\n",
      "Iteration: 58\tLog-likelihood: -7.7090161255848795\n",
      "Iteration: 59\tLog-likelihood: -7.7084733230909235\n",
      "Iteration: 60\tLog-likelihood: -7.706354729765369\n",
      "Iteration: 61\tLog-likelihood: -7.705293759011037\n",
      "Iteration: 62\tLog-likelihood: -7.702387129499995\n",
      "Iteration: 63\tLog-likelihood: -7.701623654264978\n",
      "Iteration: 64\tLog-likelihood: -7.702545232083002\n",
      "Iteration: 65\tLog-likelihood: -7.698946447988121\n",
      "Iteration: 66\tLog-likelihood: -7.698556373015538\n",
      "Iteration: 67\tLog-likelihood: -7.697380805239307\n",
      "Iteration: 68\tLog-likelihood: -7.695214832454086\n",
      "Iteration: 69\tLog-likelihood: -7.692714300535637\n",
      "Iteration: 70\tLog-likelihood: -7.694122333892329\n",
      "Iteration: 71\tLog-likelihood: -7.690888912849968\n",
      "Iteration: 72\tLog-likelihood: -7.692555046803311\n",
      "Iteration: 73\tLog-likelihood: -7.692715250457013\n",
      "Iteration: 74\tLog-likelihood: -7.69037717251186\n",
      "Iteration: 75\tLog-likelihood: -7.689803258431913\n",
      "Iteration: 76\tLog-likelihood: -7.6891305551499745\n",
      "Iteration: 77\tLog-likelihood: -7.688189958794123\n",
      "Iteration: 78\tLog-likelihood: -7.6876927923321\n",
      "Iteration: 79\tLog-likelihood: -7.688862846315035\n",
      "Iteration: 80\tLog-likelihood: -7.687603662209403\n",
      "Iteration: 81\tLog-likelihood: -7.687637936304058\n",
      "Iteration: 82\tLog-likelihood: -7.6865707341364455\n",
      "Iteration: 83\tLog-likelihood: -7.685312108453222\n",
      "Iteration: 84\tLog-likelihood: -7.685710141600054\n",
      "Iteration: 85\tLog-likelihood: -7.685336296130123\n",
      "Iteration: 86\tLog-likelihood: -7.685872527560681\n",
      "Iteration: 87\tLog-likelihood: -7.685034195460694\n",
      "Iteration: 88\tLog-likelihood: -7.684603558031132\n",
      "Iteration: 89\tLog-likelihood: -7.685861215717641\n",
      "Iteration: 90\tLog-likelihood: -7.684015130632658\n",
      "Iteration: 91\tLog-likelihood: -7.685987839807644\n",
      "Iteration: 92\tLog-likelihood: -7.683881044048102\n",
      "Iteration: 93\tLog-likelihood: -7.683552097024646\n",
      "Iteration: 94\tLog-likelihood: -7.681345584526435\n",
      "Iteration: 95\tLog-likelihood: -7.681425660936189\n",
      "Iteration: 96\tLog-likelihood: -7.682170269470663\n",
      "Iteration: 97\tLog-likelihood: -7.682526179109466\n",
      "Iteration: 98\tLog-likelihood: -7.681645039744715\n",
      "Iteration: 99\tLog-likelihood: -7.67857699735003\n"
     ]
    }
   ],
   "source": [
    "topics, _ = tomoto_topics(25,30, gvmt_period='fourth')\n",
    "sentiments = sentiment()\n",
    "named_ent = ner()\n",
    "same_day = Fetcher().number_of_petitions_on_same_day()\n",
    "twitter = TwitterFetcher().get_twitter_features()"
   ]
  },
  {
   "cell_type": "markdown",
   "metadata": {},
   "source": [
    "#### Baseline"
   ]
  },
  {
   "cell_type": "markdown",
   "metadata": {},
   "source": [
    "Create Baseline Dataset"
   ]
  },
  {
   "cell_type": "code",
   "execution_count": 16,
   "metadata": {},
   "outputs": [],
   "source": [
    "dataset = topics.join(Dataset().prepare(columns=[\"created_at\"]))\n",
    "dataset.sort_values(\"created_at\", inplace=True)\n",
    "dataset = dataset.reset_index()\n",
    "\n",
    "X = np.array(dataset.iloc[:,1:-3].values.tolist())\n",
    "y = np.array(dataset['class'].values.tolist())"
   ]
  },
  {
   "cell_type": "markdown",
   "metadata": {},
   "source": [
    "##### Classifiers trained with stratified cross validation"
   ]
  },
  {
   "cell_type": "markdown",
   "metadata": {},
   "source": [
    "KNN"
   ]
  },
  {
   "cell_type": "code",
   "execution_count": 12,
   "metadata": {},
   "outputs": [
    {
     "name": "stderr",
     "output_type": "stream",
     "text": [
      "C:\\Users\\mihut\\AppData\\Local\\Programs\\Python\\Python39\\lib\\site-packages\\sklearn\\model_selection\\_split.py:676: UserWarning: The least populated class in y has only 1 members, which is less than n_splits=5.\n",
      "  warnings.warn(\n"
     ]
    },
    {
     "name": "stdout",
     "output_type": "stream",
     "text": [
      "MCC 0.04\n",
      "Accuracy 0.43\n",
      "F1 0.38\n"
     ]
    },
    {
     "data": {
      "image/png": "[encoded data removed]",
      "text/plain": [
       "<Figure size 432x288 with 2 Axes>"
      ]
     },
     "metadata": {
      "needs_background": "light"
     },
     "output_type": "display_data"
    },
    {
     "data": {
      "image/png": "[encoded data removed]",
      "text/plain": [
       "<Figure size 432x288 with 2 Axes>"
      ]
     },
     "metadata": {
      "needs_background": "light"
     },
     "output_type": "display_data"
    },
    {
     "data": {
      "image/png": "[encoded data removed]",
      "text/plain": [
       "<Figure size 432x288 with 2 Axes>"
      ]
     },
     "metadata": {
      "needs_background": "light"
     },
     "output_type": "display_data"
    },
    {
     "data": {
      "image/png": "[encoded data removed]",
      "text/plain": [
       "<Figure size 432x288 with 2 Axes>"
      ]
     },
     "metadata": {
      "needs_background": "light"
     },
     "output_type": "display_data"
    },
    {
     "data": {
      "image/png": "[encoded data removed]",
      "text/plain": [
       "<Figure size 432x288 with 2 Axes>"
      ]
     },
     "metadata": {
      "needs_background": "light"
     },
     "output_type": "display_data"
    }
   ],
   "source": [
    "knn = KNeighborsClassifier(n_jobs=-1)\n",
    "mcc_scores = list()\n",
    "acc_scores = list()\n",
    "f1_scores = list()\n",
    "\n",
    "for train_index, test_index in skf.split(X, y):\n",
    "  X_train, X_test = X[train_index], X[test_index]\n",
    "  y_train, y_test = y[train_index], y[test_index]\n",
    "  knn.fit(X_train, y_train)\n",
    "  y_pred = knn.predict(X_test)\n",
    "  mcc_scores.append(round(matthews_corrcoef(y_test,y_pred),2))\n",
    "  acc_scores.append(round(accuracy_score(y_test,y_pred),2))\n",
    "  f1_scores.append(round(f1_score(y_test,y_pred, average='weighted'),2))\n",
    "  ConfusionMatrixDisplay.from_estimator(knn, X_test, y_test)\n",
    "\n",
    "print(\"MCC\", round(np.mean(mcc_scores),2))\n",
    "print(\"Accuracy\", round(np.mean(acc_scores),2))\n",
    "print(\"F1\", round(np.mean(f1_scores),2))"
   ]
  },
  {
   "cell_type": "markdown",
   "metadata": {},
   "source": [
    "NB"
   ]
  },
  {
   "cell_type": "code",
   "execution_count": 13,
   "metadata": {},
   "outputs": [
    {
     "name": "stderr",
     "output_type": "stream",
     "text": [
      "C:\\Users\\mihut\\AppData\\Local\\Programs\\Python\\Python39\\lib\\site-packages\\sklearn\\model_selection\\_split.py:676: UserWarning: The least populated class in y has only 1 members, which is less than n_splits=5.\n",
      "  warnings.warn(\n"
     ]
    },
    {
     "name": "stdout",
     "output_type": "stream",
     "text": [
      "MCC 0.08\n",
      "Accuracy 0.39\n",
      "F1 0.39\n"
     ]
    },
    {
     "data": {
      "image/png": "[encoded data removed]",
      "text/plain": [
       "<Figure size 432x288 with 2 Axes>"
      ]
     },
     "metadata": {
      "needs_background": "light"
     },
     "output_type": "display_data"
    },
    {
     "data": {
      "image/png": "[encoded data removed]",
      "text/plain": [
       "<Figure size 432x288 with 2 Axes>"
      ]
     },
     "metadata": {
      "needs_background": "light"
     },
     "output_type": "display_data"
    },
    {
     "data": {
      "image/png": "[encoded data removed]",
      "text/plain": [
       "<Figure size 432x288 with 2 Axes>"
      ]
     },
     "metadata": {
      "needs_background": "light"
     },
     "output_type": "display_data"
    },
    {
     "data": {
      "image/png": "[encoded data removed]",
      "text/plain": [
       "<Figure size 432x288 with 2 Axes>"
      ]
     },
     "metadata": {
      "needs_background": "light"
     },
     "output_type": "display_data"
    },
    {
     "data": {
      "image/png": "[encoded data removed]",
      "text/plain": [
       "<Figure size 432x288 with 2 Axes>"
      ]
     },
     "metadata": {
      "needs_background": "light"
     },
     "output_type": "display_data"
    }
   ],
   "source": [
    "nb = ComplementNB()\n",
    "mcc_scores = list()\n",
    "acc_scores = list()\n",
    "f1_scores = list()\n",
    "\n",
    "for train_index, test_index in skf.split(X, y):\n",
    "  X_train, X_test = X[train_index], X[test_index]\n",
    "  y_train, y_test = y[train_index], y[test_index]\n",
    "  nb.fit(X_train, y_train)\n",
    "  y_pred = nb.predict(X_test)\n",
    "  mcc_scores.append(round(matthews_corrcoef(y_test,y_pred),2))\n",
    "  acc_scores.append(round(accuracy_score(y_test,y_pred),2))\n",
    "  f1_scores.append(round(f1_score(y_test,y_pred, average='weighted'),2))\n",
    "  ConfusionMatrixDisplay.from_estimator(nb, X_test, y_test)\n",
    "\n",
    "print(\"MCC\", round(np.mean(mcc_scores),2))\n",
    "print(\"Accuracy\", round(np.mean(acc_scores),2))\n",
    "print(\"F1\", round(np.mean(f1_scores),2))"
   ]
  },
  {
   "cell_type": "markdown",
   "metadata": {},
   "source": [
    "SVC"
   ]
  },
  {
   "cell_type": "code",
   "execution_count": null,
   "metadata": {},
   "outputs": [],
   "source": [
    "svc = SVC(class_weight='balanced')\n",
    "mcc_scores = list()\n",
    "acc_scores = list()\n",
    "f1_scores = list()\n",
    "\n",
    "for train_index, test_index in skf.split(X, y):\n",
    "  X_train, X_test = X[train_index], X[test_index]\n",
    "  y_train, y_test = y[train_index], y[test_index]\n",
    "  svc.fit(X_train, y_train)\n",
    "  y_pred = svc.predict(X_test)\n",
    "  mcc_scores.append(round(matthews_corrcoef(y_test,y_pred),2))\n",
    "  acc_scores.append(round(accuracy_score(y_test,y_pred),2))\n",
    "  f1_scores.append(round(f1_score(y_test,y_pred, average='weighted'),2))\n",
    "  ConfusionMatrixDisplay.from_estimator(svc, X_test, y_test)\n",
    "\n",
    "print(\"MCC\", round(np.mean(mcc_scores),2))\n",
    "print(\"Accuracy\", round(np.mean(acc_scores),2))\n",
    "print(\"F1\", round(np.mean(f1_scores),2))"
   ]
  },
  {
   "cell_type": "markdown",
   "metadata": {},
   "source": [
    "DT"
   ]
  },
  {
   "cell_type": "code",
   "execution_count": null,
   "metadata": {},
   "outputs": [],
   "source": [
    "dt = DecisionTreeClassifier()\n",
    "mcc_scores = list()\n",
    "acc_scores = list()\n",
    "f1_scores = list()\n",
    "\n",
    "for train_index, test_index in skf.split(X, y):\n",
    "  X_train, X_test = X[train_index], X[test_index]\n",
    "  y_train, y_test = y[train_index], y[test_index]\n",
    "  dt.fit(X_train, y_train)\n",
    "  y_pred = dt.predict(X_test)\n",
    "  mcc_scores.append(round(matthews_corrcoef(y_test,y_pred),2))\n",
    "  acc_scores.append(round(accuracy_score(y_test,y_pred),2))\n",
    "  f1_scores.append(round(f1_score(y_test,y_pred, average='weighted'),2))\n",
    "  ConfusionMatrixDisplay.from_estimator(dt, X_test, y_test)\n",
    "\n",
    "print(\"MCC\", round(np.mean(mcc_scores),2))\n",
    "print(\"Accuracy\", round(np.mean(acc_scores),2))\n",
    "print(\"F1\", round(np.mean(f1_scores),2))"
   ]
  },
  {
   "cell_type": "markdown",
   "metadata": {},
   "source": [
    "RF"
   ]
  },
  {
   "cell_type": "code",
   "execution_count": null,
   "metadata": {},
   "outputs": [],
   "source": [
    "rf = RandomForestClassifier()\n",
    "mcc_scores = list()\n",
    "acc_scores = list()\n",
    "f1_scores = list()\n",
    "\n",
    "for train_index, test_index in skf.split(X, y):\n",
    "  X_train, X_test = X[train_index], X[test_index]\n",
    "  y_train, y_test = y[train_index], y[test_index]\n",
    "  rf.fit(X_train, y_train)\n",
    "  y_pred = rf.predict(X_test)\n",
    "  mcc_scores.append(round(matthews_corrcoef(y_test,y_pred),2))\n",
    "  acc_scores.append(round(accuracy_score(y_test,y_pred),2))\n",
    "  f1_scores.append(round(f1_score(y_test,y_pred, average='weighted'),2))\n",
    "  ConfusionMatrixDisplay.from_estimator(rf, X_test, y_test)\n",
    "\n",
    "print(\"MCC\", round(np.mean(mcc_scores),2))\n",
    "print(\"Accuracy\", round(np.mean(acc_scores),2))\n",
    "print(\"F1\", round(np.mean(f1_scores),2))"
   ]
  },
  {
   "cell_type": "markdown",
   "metadata": {},
   "source": [
    "GB"
   ]
  },
  {
   "cell_type": "code",
   "execution_count": 17,
   "metadata": {},
   "outputs": [
    {
     "name": "stderr",
     "output_type": "stream",
     "text": [
      "C:\\Users\\mihut\\AppData\\Local\\Programs\\Python\\Python39\\lib\\site-packages\\sklearn\\model_selection\\_split.py:676: UserWarning: The least populated class in y has only 1 members, which is less than n_splits=5.\n",
      "  warnings.warn(\n",
      "C:\\Users\\mihut\\AppData\\Local\\Programs\\Python\\Python39\\lib\\site-packages\\xgboost\\sklearn.py:1224: UserWarning: The use of label encoder in XGBClassifier is deprecated and will be removed in a future release. To remove this warning, do the following: 1) Pass option use_label_encoder=False when constructing XGBClassifier object; and 2) Encode your labels (y) as integers starting with 0, i.e. 0, 1, 2, ..., [num_class - 1].\n",
      "  warnings.warn(label_encoder_deprecation_msg, UserWarning)\n"
     ]
    },
    {
     "name": "stdout",
     "output_type": "stream",
     "text": [
      "[20:17:10] WARNING: C:/Users/Administrator/workspace/xgboost-win64_release_1.5.1/src/learner.cc:1115: Starting in XGBoost 1.3.0, the default evaluation metric used with the objective 'multi:softprob' was changed from 'merror' to 'mlogloss'. Explicitly set eval_metric if you'd like to restore the old behavior.\n"
     ]
    },
    {
     "name": "stderr",
     "output_type": "stream",
     "text": [
      "C:\\Users\\mihut\\AppData\\Local\\Programs\\Python\\Python39\\lib\\site-packages\\xgboost\\sklearn.py:1224: UserWarning: The use of label encoder in XGBClassifier is deprecated and will be removed in a future release. To remove this warning, do the following: 1) Pass option use_label_encoder=False when constructing XGBClassifier object; and 2) Encode your labels (y) as integers starting with 0, i.e. 0, 1, 2, ..., [num_class - 1].\n",
      "  warnings.warn(label_encoder_deprecation_msg, UserWarning)\n"
     ]
    },
    {
     "name": "stdout",
     "output_type": "stream",
     "text": [
      "[20:17:17] WARNING: C:/Users/Administrator/workspace/xgboost-win64_release_1.5.1/src/learner.cc:1115: Starting in XGBoost 1.3.0, the default evaluation metric used with the objective 'multi:softprob' was changed from 'merror' to 'mlogloss'. Explicitly set eval_metric if you'd like to restore the old behavior.\n"
     ]
    },
    {
     "name": "stderr",
     "output_type": "stream",
     "text": [
      "C:\\Users\\mihut\\AppData\\Local\\Programs\\Python\\Python39\\lib\\site-packages\\xgboost\\sklearn.py:1224: UserWarning: The use of label encoder in XGBClassifier is deprecated and will be removed in a future release. To remove this warning, do the following: 1) Pass option use_label_encoder=False when constructing XGBClassifier object; and 2) Encode your labels (y) as integers starting with 0, i.e. 0, 1, 2, ..., [num_class - 1].\n",
      "  warnings.warn(label_encoder_deprecation_msg, UserWarning)\n"
     ]
    },
    {
     "name": "stdout",
     "output_type": "stream",
     "text": [
      "[20:17:24] WARNING: C:/Users/Administrator/workspace/xgboost-win64_release_1.5.1/src/learner.cc:1115: Starting in XGBoost 1.3.0, the default evaluation metric used with the objective 'multi:softprob' was changed from 'merror' to 'mlogloss'. Explicitly set eval_metric if you'd like to restore the old behavior.\n"
     ]
    },
    {
     "name": "stderr",
     "output_type": "stream",
     "text": [
      "C:\\Users\\mihut\\AppData\\Local\\Programs\\Python\\Python39\\lib\\site-packages\\xgboost\\sklearn.py:1224: UserWarning: The use of label encoder in XGBClassifier is deprecated and will be removed in a future release. To remove this warning, do the following: 1) Pass option use_label_encoder=False when constructing XGBClassifier object; and 2) Encode your labels (y) as integers starting with 0, i.e. 0, 1, 2, ..., [num_class - 1].\n",
      "  warnings.warn(label_encoder_deprecation_msg, UserWarning)\n"
     ]
    },
    {
     "name": "stdout",
     "output_type": "stream",
     "text": [
      "[20:17:32] WARNING: C:/Users/Administrator/workspace/xgboost-win64_release_1.5.1/src/learner.cc:1115: Starting in XGBoost 1.3.0, the default evaluation metric used with the objective 'multi:softprob' was changed from 'merror' to 'mlogloss'. Explicitly set eval_metric if you'd like to restore the old behavior.\n"
     ]
    },
    {
     "name": "stderr",
     "output_type": "stream",
     "text": [
      "C:\\Users\\mihut\\AppData\\Local\\Programs\\Python\\Python39\\lib\\site-packages\\xgboost\\sklearn.py:1224: UserWarning: The use of label encoder in XGBClassifier is deprecated and will be removed in a future release. To remove this warning, do the following: 1) Pass option use_label_encoder=False when constructing XGBClassifier object; and 2) Encode your labels (y) as integers starting with 0, i.e. 0, 1, 2, ..., [num_class - 1].\n",
      "  warnings.warn(label_encoder_deprecation_msg, UserWarning)\n"
     ]
    },
    {
     "name": "stdout",
     "output_type": "stream",
     "text": [
      "[20:17:39] WARNING: C:/Users/Administrator/workspace/xgboost-win64_release_1.5.1/src/learner.cc:1115: Starting in XGBoost 1.3.0, the default evaluation metric used with the objective 'multi:softprob' was changed from 'merror' to 'mlogloss'. Explicitly set eval_metric if you'd like to restore the old behavior.\n",
      "MCC 0.07\n",
      "Accuracy 0.45\n",
      "F1 0.39\n"
     ]
    },
    {
     "data": {
      "image/png": "[encoded data removed]",
      "text/plain": [
       "<Figure size 432x288 with 2 Axes>"
      ]
     },
     "metadata": {
      "needs_background": "light"
     },
     "output_type": "display_data"
    },
    {
     "data": {
      "image/png": "[encoded data removed]",
      "text/plain": [
       "<Figure size 432x288 with 2 Axes>"
      ]
     },
     "metadata": {
      "needs_background": "light"
     },
     "output_type": "display_data"
    },
    {
     "data": {
      "image/png": "[encoded data removed]",
      "text/plain": [
       "<Figure size 432x288 with 2 Axes>"
      ]
     },
     "metadata": {
      "needs_background": "light"
     },
     "output_type": "display_data"
    },
    {
     "data": {
      "image/png": "[encoded data removed]",
      "text/plain": [
       "<Figure size 432x288 with 2 Axes>"
      ]
     },
     "metadata": {
      "needs_background": "light"
     },
     "output_type": "display_data"
    },
    {
     "data": {
      "image/png": "[encoded data removed]",
      "text/plain": [
       "<Figure size 432x288 with 2 Axes>"
      ]
     },
     "metadata": {
      "needs_background": "light"
     },
     "output_type": "display_data"
    }
   ],
   "source": [
    "gb = XGBClassifier()\n",
    "mcc_scores = list()\n",
    "acc_scores = list()\n",
    "f1_scores = list()\n",
    "\n",
    "for train_index, test_index in skf.split(X, y):\n",
    "  X_train, X_test = X[train_index], X[test_index]\n",
    "  y_train, y_test = y[train_index], y[test_index]\n",
    "  gb.fit(X_train, y_train)\n",
    "  y_pred = gb.predict(X_test)\n",
    "  mcc_scores.append(round(matthews_corrcoef(y_test,y_pred),2))\n",
    "  acc_scores.append(round(accuracy_score(y_test,y_pred),2))\n",
    "  f1_scores.append(round(f1_score(y_test,y_pred, average='weighted'),2))\n",
    "  ConfusionMatrixDisplay.from_estimator(gb, X_test, y_test)\n",
    "\n",
    "print(\"MCC\", round(np.mean(mcc_scores),2))\n",
    "print(\"Accuracy\", round(np.mean(acc_scores),2))\n",
    "print(\"F1\", round(np.mean(f1_scores),2))"
   ]
  },
  {
   "cell_type": "markdown",
   "metadata": {},
   "source": [
    "MLP"
   ]
  },
  {
   "cell_type": "code",
   "execution_count": null,
   "metadata": {},
   "outputs": [],
   "source": [
    "mlp = MLPClassifier()\n",
    "mcc_scores = list()\n",
    "acc_scores = list()\n",
    "f1_scores = list()\n",
    "\n",
    "for train_index, test_index in skf.split(X, y):\n",
    "  X_train, X_test = X[train_index], X[test_index]\n",
    "  y_train, y_test = y[train_index], y[test_index]\n",
    "  mlp.fit(X_train, y_train)\n",
    "  y_pred = mlp.predict(X_test)\n",
    "  mcc_scores.append(round(matthews_corrcoef(y_test,y_pred),2))\n",
    "  acc_scores.append(round(accuracy_score(y_test,y_pred),2))\n",
    "  f1_scores.append(round(f1_score(y_test,y_pred, average='weighted'),2))\n",
    "  ConfusionMatrixDisplay.from_estimator(mlp, X_test, y_test)\n",
    "\n",
    "print(\"MCC\", round(np.mean(mcc_scores),2))\n",
    "print(\"Accuracy\", round(np.mean(acc_scores),2))\n",
    "print(\"F1\", round(np.mean(f1_scores),2))"
   ]
  },
  {
   "cell_type": "markdown",
   "metadata": {},
   "source": [
    "##### Classifiers trained with timesplit cross validation"
   ]
  },
  {
   "cell_type": "markdown",
   "metadata": {},
   "source": [
    "KNN"
   ]
  },
  {
   "cell_type": "code",
   "execution_count": 4,
   "metadata": {},
   "outputs": [
    {
     "name": "stdout",
     "output_type": "stream",
     "text": [
      "MCC 0.02\n",
      "Accuracy 0.41\n",
      "F1 0.37\n"
     ]
    },
    {
     "data": {
      "image/png": "[encoded data removed]",
      "text/plain": [
       "<Figure size 432x288 with 2 Axes>"
      ]
     },
     "metadata": {
      "needs_background": "light"
     },
     "output_type": "display_data"
    },
    {
     "data": {
      "image/png": "[encoded data removed]",
      "text/plain": [
       "<Figure size 432x288 with 2 Axes>"
      ]
     },
     "metadata": {
      "needs_background": "light"
     },
     "output_type": "display_data"
    },
    {
     "data": {
      "image/png": "[encoded data removed]",
      "text/plain": [
       "<Figure size 432x288 with 2 Axes>"
      ]
     },
     "metadata": {
      "needs_background": "light"
     },
     "output_type": "display_data"
    },
    {
     "data": {
      "image/png": "[encoded data removed]",
      "text/plain": [
       "<Figure size 432x288 with 2 Axes>"
      ]
     },
     "metadata": {
      "needs_background": "light"
     },
     "output_type": "display_data"
    },
    {
     "data": {
      "image/png": "[encoded data removed]",
      "text/plain": [
       "<Figure size 432x288 with 2 Axes>"
      ]
     },
     "metadata": {
      "needs_background": "light"
     },
     "output_type": "display_data"
    }
   ],
   "source": [
    "knn = KNeighborsClassifier(n_jobs=-1)\n",
    "mcc_scores = list()\n",
    "acc_scores = list()\n",
    "f1_scores = list()\n",
    "\n",
    "for train_index, test_index in tss.split(X, y):\n",
    "  X_train, X_test = X[train_index], X[test_index]\n",
    "  y_train, y_test = y[train_index], y[test_index]\n",
    "  knn.fit(X_train, y_train)\n",
    "  y_pred = knn.predict(X_test)\n",
    "  mcc_scores.append(round(matthews_corrcoef(y_test,y_pred),2))\n",
    "  acc_scores.append(round(accuracy_score(y_test,y_pred),2))\n",
    "  f1_scores.append(round(f1_score(y_test,y_pred, average='weighted'),2))\n",
    "  ConfusionMatrixDisplay.from_estimator(knn, X_test, y_test)\n",
    "\n",
    "print(\"MCC\", round(np.mean(mcc_scores),2))\n",
    "print(\"Accuracy\", round(np.mean(acc_scores),2))\n",
    "print(\"F1\", round(np.mean(f1_scores),2))"
   ]
  },
  {
   "cell_type": "markdown",
   "metadata": {},
   "source": [
    "NB"
   ]
  },
  {
   "cell_type": "code",
   "execution_count": 6,
   "metadata": {},
   "outputs": [
    {
     "ename": "ValueError",
     "evalue": "Negative values in data passed to ComplementNB (input X)",
     "output_type": "error",
     "traceback": [
      "\u001b[1;31m---------------------------------------------------------------------------\u001b[0m",
      "\u001b[1;31mValueError\u001b[0m                                Traceback (most recent call last)",
      "\u001b[1;32m~\\AppData\\Local\\Temp/ipykernel_6528/4273186969.py\u001b[0m in \u001b[0;36m<module>\u001b[1;34m\u001b[0m\n\u001b[0;32m      7\u001b[0m   \u001b[0mX_train\u001b[0m\u001b[1;33m,\u001b[0m \u001b[0mX_test\u001b[0m \u001b[1;33m=\u001b[0m \u001b[0mX\u001b[0m\u001b[1;33m[\u001b[0m\u001b[0mtrain_index\u001b[0m\u001b[1;33m]\u001b[0m\u001b[1;33m,\u001b[0m \u001b[0mX\u001b[0m\u001b[1;33m[\u001b[0m\u001b[0mtest_index\u001b[0m\u001b[1;33m]\u001b[0m\u001b[1;33m\u001b[0m\u001b[1;33m\u001b[0m\u001b[0m\n\u001b[0;32m      8\u001b[0m   \u001b[0my_train\u001b[0m\u001b[1;33m,\u001b[0m \u001b[0my_test\u001b[0m \u001b[1;33m=\u001b[0m \u001b[0my\u001b[0m\u001b[1;33m[\u001b[0m\u001b[0mtrain_index\u001b[0m\u001b[1;33m]\u001b[0m\u001b[1;33m,\u001b[0m \u001b[0my\u001b[0m\u001b[1;33m[\u001b[0m\u001b[0mtest_index\u001b[0m\u001b[1;33m]\u001b[0m\u001b[1;33m\u001b[0m\u001b[1;33m\u001b[0m\u001b[0m\n\u001b[1;32m----> 9\u001b[1;33m   \u001b[0mnb\u001b[0m\u001b[1;33m.\u001b[0m\u001b[0mfit\u001b[0m\u001b[1;33m(\u001b[0m\u001b[0mX_train\u001b[0m\u001b[1;33m,\u001b[0m \u001b[0my_train\u001b[0m\u001b[1;33m)\u001b[0m\u001b[1;33m\u001b[0m\u001b[1;33m\u001b[0m\u001b[0m\n\u001b[0m\u001b[0;32m     10\u001b[0m   \u001b[0my_pred\u001b[0m \u001b[1;33m=\u001b[0m \u001b[0mnb\u001b[0m\u001b[1;33m.\u001b[0m\u001b[0mpredict\u001b[0m\u001b[1;33m(\u001b[0m\u001b[0mX_test\u001b[0m\u001b[1;33m)\u001b[0m\u001b[1;33m\u001b[0m\u001b[1;33m\u001b[0m\u001b[0m\n\u001b[0;32m     11\u001b[0m   \u001b[0mmcc_scores\u001b[0m\u001b[1;33m.\u001b[0m\u001b[0mappend\u001b[0m\u001b[1;33m(\u001b[0m\u001b[0mround\u001b[0m\u001b[1;33m(\u001b[0m\u001b[0mmatthews_corrcoef\u001b[0m\u001b[1;33m(\u001b[0m\u001b[0my_test\u001b[0m\u001b[1;33m,\u001b[0m\u001b[0my_pred\u001b[0m\u001b[1;33m)\u001b[0m\u001b[1;33m,\u001b[0m\u001b[1;36m2\u001b[0m\u001b[1;33m)\u001b[0m\u001b[1;33m)\u001b[0m\u001b[1;33m\u001b[0m\u001b[1;33m\u001b[0m\u001b[0m\n",
      "\u001b[1;32m~\\AppData\\Local\\Programs\\Python\\Python39\\lib\\site-packages\\sklearn\\naive_bayes.py\u001b[0m in \u001b[0;36mfit\u001b[1;34m(self, X, y, sample_weight)\u001b[0m\n\u001b[0;32m    688\u001b[0m         \u001b[0mn_classes\u001b[0m \u001b[1;33m=\u001b[0m \u001b[0mY\u001b[0m\u001b[1;33m.\u001b[0m\u001b[0mshape\u001b[0m\u001b[1;33m[\u001b[0m\u001b[1;36m1\u001b[0m\u001b[1;33m]\u001b[0m\u001b[1;33m\u001b[0m\u001b[1;33m\u001b[0m\u001b[0m\n\u001b[0;32m    689\u001b[0m         \u001b[0mself\u001b[0m\u001b[1;33m.\u001b[0m\u001b[0m_init_counters\u001b[0m\u001b[1;33m(\u001b[0m\u001b[0mn_classes\u001b[0m\u001b[1;33m,\u001b[0m \u001b[0mn_features\u001b[0m\u001b[1;33m)\u001b[0m\u001b[1;33m\u001b[0m\u001b[1;33m\u001b[0m\u001b[0m\n\u001b[1;32m--> 690\u001b[1;33m         \u001b[0mself\u001b[0m\u001b[1;33m.\u001b[0m\u001b[0m_count\u001b[0m\u001b[1;33m(\u001b[0m\u001b[0mX\u001b[0m\u001b[1;33m,\u001b[0m \u001b[0mY\u001b[0m\u001b[1;33m)\u001b[0m\u001b[1;33m\u001b[0m\u001b[1;33m\u001b[0m\u001b[0m\n\u001b[0m\u001b[0;32m    691\u001b[0m         \u001b[0malpha\u001b[0m \u001b[1;33m=\u001b[0m \u001b[0mself\u001b[0m\u001b[1;33m.\u001b[0m\u001b[0m_check_alpha\u001b[0m\u001b[1;33m(\u001b[0m\u001b[1;33m)\u001b[0m\u001b[1;33m\u001b[0m\u001b[1;33m\u001b[0m\u001b[0m\n\u001b[0;32m    692\u001b[0m         \u001b[0mself\u001b[0m\u001b[1;33m.\u001b[0m\u001b[0m_update_feature_log_prob\u001b[0m\u001b[1;33m(\u001b[0m\u001b[0malpha\u001b[0m\u001b[1;33m)\u001b[0m\u001b[1;33m\u001b[0m\u001b[1;33m\u001b[0m\u001b[0m\n",
      "\u001b[1;32m~\\AppData\\Local\\Programs\\Python\\Python39\\lib\\site-packages\\sklearn\\naive_bayes.py\u001b[0m in \u001b[0;36m_count\u001b[1;34m(self, X, Y)\u001b[0m\n\u001b[0;32m   1004\u001b[0m     \u001b[1;32mdef\u001b[0m \u001b[0m_count\u001b[0m\u001b[1;33m(\u001b[0m\u001b[0mself\u001b[0m\u001b[1;33m,\u001b[0m \u001b[0mX\u001b[0m\u001b[1;33m,\u001b[0m \u001b[0mY\u001b[0m\u001b[1;33m)\u001b[0m\u001b[1;33m:\u001b[0m\u001b[1;33m\u001b[0m\u001b[1;33m\u001b[0m\u001b[0m\n\u001b[0;32m   1005\u001b[0m         \u001b[1;34m\"\"\"Count feature occurrences.\"\"\"\u001b[0m\u001b[1;33m\u001b[0m\u001b[1;33m\u001b[0m\u001b[0m\n\u001b[1;32m-> 1006\u001b[1;33m         \u001b[0mcheck_non_negative\u001b[0m\u001b[1;33m(\u001b[0m\u001b[0mX\u001b[0m\u001b[1;33m,\u001b[0m \u001b[1;34m\"ComplementNB (input X)\"\u001b[0m\u001b[1;33m)\u001b[0m\u001b[1;33m\u001b[0m\u001b[1;33m\u001b[0m\u001b[0m\n\u001b[0m\u001b[0;32m   1007\u001b[0m         \u001b[0mself\u001b[0m\u001b[1;33m.\u001b[0m\u001b[0mfeature_count_\u001b[0m \u001b[1;33m+=\u001b[0m \u001b[0msafe_sparse_dot\u001b[0m\u001b[1;33m(\u001b[0m\u001b[0mY\u001b[0m\u001b[1;33m.\u001b[0m\u001b[0mT\u001b[0m\u001b[1;33m,\u001b[0m \u001b[0mX\u001b[0m\u001b[1;33m)\u001b[0m\u001b[1;33m\u001b[0m\u001b[1;33m\u001b[0m\u001b[0m\n\u001b[0;32m   1008\u001b[0m         \u001b[0mself\u001b[0m\u001b[1;33m.\u001b[0m\u001b[0mclass_count_\u001b[0m \u001b[1;33m+=\u001b[0m \u001b[0mY\u001b[0m\u001b[1;33m.\u001b[0m\u001b[0msum\u001b[0m\u001b[1;33m(\u001b[0m\u001b[0maxis\u001b[0m\u001b[1;33m=\u001b[0m\u001b[1;36m0\u001b[0m\u001b[1;33m)\u001b[0m\u001b[1;33m\u001b[0m\u001b[1;33m\u001b[0m\u001b[0m\n",
      "\u001b[1;32m~\\AppData\\Local\\Programs\\Python\\Python39\\lib\\site-packages\\sklearn\\utils\\validation.py\u001b[0m in \u001b[0;36mcheck_non_negative\u001b[1;34m(X, whom)\u001b[0m\n\u001b[0;32m   1247\u001b[0m \u001b[1;33m\u001b[0m\u001b[0m\n\u001b[0;32m   1248\u001b[0m     \u001b[1;32mif\u001b[0m \u001b[0mX_min\u001b[0m \u001b[1;33m<\u001b[0m \u001b[1;36m0\u001b[0m\u001b[1;33m:\u001b[0m\u001b[1;33m\u001b[0m\u001b[1;33m\u001b[0m\u001b[0m\n\u001b[1;32m-> 1249\u001b[1;33m         \u001b[1;32mraise\u001b[0m \u001b[0mValueError\u001b[0m\u001b[1;33m(\u001b[0m\u001b[1;34m\"Negative values in data passed to %s\"\u001b[0m \u001b[1;33m%\u001b[0m \u001b[0mwhom\u001b[0m\u001b[1;33m)\u001b[0m\u001b[1;33m\u001b[0m\u001b[1;33m\u001b[0m\u001b[0m\n\u001b[0m\u001b[0;32m   1250\u001b[0m \u001b[1;33m\u001b[0m\u001b[0m\n\u001b[0;32m   1251\u001b[0m \u001b[1;33m\u001b[0m\u001b[0m\n",
      "\u001b[1;31mValueError\u001b[0m: Negative values in data passed to ComplementNB (input X)"
     ]
    }
   ],
   "source": [
    "nb = ComplementNB()\n",
    "mcc_scores = list()\n",
    "acc_scores = list()\n",
    "f1_scores = list()\n",
    "\n",
    "for train_index, test_index in tss.split(X, y):\n",
    "  X_train, X_test = X[train_index], X[test_index]\n",
    "  y_train, y_test = y[train_index], y[test_index]\n",
    "  nb.fit(X_train, y_train)\n",
    "  y_pred = nb.predict(X_test)\n",
    "  mcc_scores.append(round(matthews_corrcoef(y_test,y_pred),2))\n",
    "  acc_scores.append(round(accuracy_score(y_test,y_pred),2))\n",
    "  f1_scores.append(round(f1_score(y_test,y_pred, average='weighted'),2))\n",
    "  ConfusionMatrixDisplay.from_estimator(nb, X_test, y_test)\n",
    "\n",
    "print(\"MCC\", round(np.mean(mcc_scores),2))\n",
    "print(\"Accuracy\", round(np.mean(acc_scores),2))\n",
    "print(\"F1\", round(np.mean(f1_scores),2))"
   ]
  },
  {
   "cell_type": "markdown",
   "metadata": {},
   "source": [
    "SVC"
   ]
  },
  {
   "cell_type": "code",
   "execution_count": null,
   "metadata": {},
   "outputs": [],
   "source": [
    "svc = SVC(class_weight='balanced')\n",
    "mcc_scores = list()\n",
    "acc_scores = list()\n",
    "f1_scores = list()\n",
    "\n",
    "for train_index, test_index in tss.split(X, y):\n",
    "  X_train, X_test = X[train_index], X[test_index]\n",
    "  y_train, y_test = y[train_index], y[test_index]\n",
    "  svc.fit(X_train, y_train)\n",
    "  y_pred = svc.predict(X_test)\n",
    "  mcc_scores.append(round(matthews_corrcoef(y_test,y_pred),2))\n",
    "  acc_scores.append(round(accuracy_score(y_test,y_pred),2))\n",
    "  f1_scores.append(round(f1_score(y_test,y_pred, average='weighted'),2))\n",
    "  ConfusionMatrixDisplay.from_estimator(svc, X_test, y_test)\n",
    "\n",
    "print(\"MCC\", round(np.mean(mcc_scores),2))\n",
    "print(\"Accuracy\", round(np.mean(acc_scores),2))\n",
    "print(\"F1\", round(np.mean(f1_scores),2))"
   ]
  },
  {
   "cell_type": "markdown",
   "metadata": {},
   "source": [
    "DT"
   ]
  },
  {
   "cell_type": "code",
   "execution_count": null,
   "metadata": {},
   "outputs": [],
   "source": [
    "dt = DecisionTreeClassifier()\n",
    "mcc_scores = list()\n",
    "acc_scores = list()\n",
    "f1_scores = list()\n",
    "\n",
    "for train_index, test_index in tss.split(X, y):\n",
    "  X_train, X_test = X[train_index], X[test_index]\n",
    "  y_train, y_test = y[train_index], y[test_index]\n",
    "  dt.fit(X_train, y_train)\n",
    "  y_pred = dt.predict(X_test)\n",
    "  mcc_scores.append(round(matthews_corrcoef(y_test,y_pred),2))\n",
    "  acc_scores.append(round(accuracy_score(y_test,y_pred),2))\n",
    "  f1_scores.append(round(f1_score(y_test,y_pred, average='weighted'),2))\n",
    "  ConfusionMatrixDisplay.from_estimator(dt, X_test, y_test)\n",
    "\n",
    "print(\"MCC\", round(np.mean(mcc_scores),2))\n",
    "print(\"Accuracy\", round(np.mean(acc_scores),2))\n",
    "print(\"F1\", round(np.mean(f1_scores),2))"
   ]
  },
  {
   "cell_type": "markdown",
   "metadata": {},
   "source": [
    "RF"
   ]
  },
  {
   "cell_type": "code",
   "execution_count": 7,
   "metadata": {},
   "outputs": [
    {
     "name": "stdout",
     "output_type": "stream",
     "text": [
      "MCC 0.05\n",
      "Accuracy 0.44\n",
      "F1 0.39\n"
     ]
    },
    {
     "data": {
      "image/png": "[encoded data removed]",
      "text/plain": [
       "<Figure size 432x288 with 2 Axes>"
      ]
     },
     "metadata": {
      "needs_background": "light"
     },
     "output_type": "display_data"
    },
    {
     "data": {
      "image/png": "[encoded data removed]",
      "text/plain": [
       "<Figure size 432x288 with 2 Axes>"
      ]
     },
     "metadata": {
      "needs_background": "light"
     },
     "output_type": "display_data"
    },
    {
     "data": {
      "image/png": "[encoded data removed]",
      "text/plain": [
       "<Figure size 432x288 with 2 Axes>"
      ]
     },
     "metadata": {
      "needs_background": "light"
     },
     "output_type": "display_data"
    },
    {
     "data": {
      "image/png": "[encoded data removed]",
      "text/plain": [
       "<Figure size 432x288 with 2 Axes>"
      ]
     },
     "metadata": {
      "needs_background": "light"
     },
     "output_type": "display_data"
    },
    {
     "data": {
      "image/png": "[encoded data removed]",
      "text/plain": [
       "<Figure size 432x288 with 2 Axes>"
      ]
     },
     "metadata": {
      "needs_background": "light"
     },
     "output_type": "display_data"
    }
   ],
   "source": [
    "rf = RandomForestClassifier()\n",
    "mcc_scores = list()\n",
    "acc_scores = list()\n",
    "f1_scores = list()\n",
    "\n",
    "for train_index, test_index in tss.split(X, y):\n",
    "  X_train, X_test = X[train_index], X[test_index]\n",
    "  y_train, y_test = y[train_index], y[test_index]\n",
    "  rf.fit(X_train, y_train)\n",
    "  y_pred = rf.predict(X_test)\n",
    "  mcc_scores.append(round(matthews_corrcoef(y_test,y_pred),2))\n",
    "  acc_scores.append(round(accuracy_score(y_test,y_pred),2))\n",
    "  f1_scores.append(round(f1_score(y_test,y_pred, average='weighted'),2))\n",
    "  ConfusionMatrixDisplay.from_estimator(rf, X_test, y_test)\n",
    "\n",
    "print(\"MCC\", round(np.mean(mcc_scores),2))\n",
    "print(\"Accuracy\", round(np.mean(acc_scores),2))\n",
    "print(\"F1\", round(np.mean(f1_scores),2))"
   ]
  },
  {
   "cell_type": "markdown",
   "metadata": {},
   "source": [
    "GB"
   ]
  },
  {
   "cell_type": "code",
   "execution_count": 8,
   "metadata": {},
   "outputs": [
    {
     "name": "stderr",
     "output_type": "stream",
     "text": [
      "C:\\Users\\mihut\\AppData\\Local\\Programs\\Python\\Python39\\lib\\site-packages\\xgboost\\sklearn.py:1224: UserWarning: The use of label encoder in XGBClassifier is deprecated and will be removed in a future release. To remove this warning, do the following: 1) Pass option use_label_encoder=False when constructing XGBClassifier object; and 2) Encode your labels (y) as integers starting with 0, i.e. 0, 1, 2, ..., [num_class - 1].\n",
      "  warnings.warn(label_encoder_deprecation_msg, UserWarning)\n"
     ]
    },
    {
     "name": "stdout",
     "output_type": "stream",
     "text": [
      "[16:55:52] WARNING: C:/Users/Administrator/workspace/xgboost-win64_release_1.5.1/src/learner.cc:1115: Starting in XGBoost 1.3.0, the default evaluation metric used with the objective 'multi:softprob' was changed from 'merror' to 'mlogloss'. Explicitly set eval_metric if you'd like to restore the old behavior.\n"
     ]
    },
    {
     "name": "stderr",
     "output_type": "stream",
     "text": [
      "C:\\Users\\mihut\\AppData\\Local\\Programs\\Python\\Python39\\lib\\site-packages\\xgboost\\sklearn.py:1224: UserWarning: The use of label encoder in XGBClassifier is deprecated and will be removed in a future release. To remove this warning, do the following: 1) Pass option use_label_encoder=False when constructing XGBClassifier object; and 2) Encode your labels (y) as integers starting with 0, i.e. 0, 1, 2, ..., [num_class - 1].\n",
      "  warnings.warn(label_encoder_deprecation_msg, UserWarning)\n"
     ]
    },
    {
     "name": "stdout",
     "output_type": "stream",
     "text": [
      "[16:55:54] WARNING: C:/Users/Administrator/workspace/xgboost-win64_release_1.5.1/src/learner.cc:1115: Starting in XGBoost 1.3.0, the default evaluation metric used with the objective 'multi:softprob' was changed from 'merror' to 'mlogloss'. Explicitly set eval_metric if you'd like to restore the old behavior.\n"
     ]
    },
    {
     "name": "stderr",
     "output_type": "stream",
     "text": [
      "C:\\Users\\mihut\\AppData\\Local\\Programs\\Python\\Python39\\lib\\site-packages\\xgboost\\sklearn.py:1224: UserWarning: The use of label encoder in XGBClassifier is deprecated and will be removed in a future release. To remove this warning, do the following: 1) Pass option use_label_encoder=False when constructing XGBClassifier object; and 2) Encode your labels (y) as integers starting with 0, i.e. 0, 1, 2, ..., [num_class - 1].\n",
      "  warnings.warn(label_encoder_deprecation_msg, UserWarning)\n"
     ]
    },
    {
     "name": "stdout",
     "output_type": "stream",
     "text": [
      "[16:55:57] WARNING: C:/Users/Administrator/workspace/xgboost-win64_release_1.5.1/src/learner.cc:1115: Starting in XGBoost 1.3.0, the default evaluation metric used with the objective 'multi:softprob' was changed from 'merror' to 'mlogloss'. Explicitly set eval_metric if you'd like to restore the old behavior.\n"
     ]
    },
    {
     "name": "stderr",
     "output_type": "stream",
     "text": [
      "C:\\Users\\mihut\\AppData\\Local\\Programs\\Python\\Python39\\lib\\site-packages\\xgboost\\sklearn.py:1224: UserWarning: The use of label encoder in XGBClassifier is deprecated and will be removed in a future release. To remove this warning, do the following: 1) Pass option use_label_encoder=False when constructing XGBClassifier object; and 2) Encode your labels (y) as integers starting with 0, i.e. 0, 1, 2, ..., [num_class - 1].\n",
      "  warnings.warn(label_encoder_deprecation_msg, UserWarning)\n"
     ]
    },
    {
     "name": "stdout",
     "output_type": "stream",
     "text": [
      "[16:56:02] WARNING: C:/Users/Administrator/workspace/xgboost-win64_release_1.5.1/src/learner.cc:1115: Starting in XGBoost 1.3.0, the default evaluation metric used with the objective 'multi:softprob' was changed from 'merror' to 'mlogloss'. Explicitly set eval_metric if you'd like to restore the old behavior.\n"
     ]
    },
    {
     "name": "stderr",
     "output_type": "stream",
     "text": [
      "C:\\Users\\mihut\\AppData\\Local\\Programs\\Python\\Python39\\lib\\site-packages\\xgboost\\sklearn.py:1224: UserWarning: The use of label encoder in XGBClassifier is deprecated and will be removed in a future release. To remove this warning, do the following: 1) Pass option use_label_encoder=False when constructing XGBClassifier object; and 2) Encode your labels (y) as integers starting with 0, i.e. 0, 1, 2, ..., [num_class - 1].\n",
      "  warnings.warn(label_encoder_deprecation_msg, UserWarning)\n"
     ]
    },
    {
     "name": "stdout",
     "output_type": "stream",
     "text": [
      "[16:56:07] WARNING: C:/Users/Administrator/workspace/xgboost-win64_release_1.5.1/src/learner.cc:1115: Starting in XGBoost 1.3.0, the default evaluation metric used with the objective 'multi:softprob' was changed from 'merror' to 'mlogloss'. Explicitly set eval_metric if you'd like to restore the old behavior.\n",
      "MCC 0.05\n",
      "Accuracy 0.43\n",
      "F1 0.39\n"
     ]
    },
    {
     "data": {
      "image/png": "[encoded data removed]",
      "text/plain": [
       "<Figure size 432x288 with 2 Axes>"
      ]
     },
     "metadata": {
      "needs_background": "light"
     },
     "output_type": "display_data"
    },
    {
     "data": {
      "image/png": "[encoded data removed]",
      "text/plain": [
       "<Figure size 432x288 with 2 Axes>"
      ]
     },
     "metadata": {
      "needs_background": "light"
     },
     "output_type": "display_data"
    },
    {
     "data": {
      "image/png": "[encoded data removed]",
      "text/plain": [
       "<Figure size 432x288 with 2 Axes>"
      ]
     },
     "metadata": {
      "needs_background": "light"
     },
     "output_type": "display_data"
    },
    {
     "data": {
      "image/png": "[encoded data removed]",
      "text/plain": [
       "<Figure size 432x288 with 2 Axes>"
      ]
     },
     "metadata": {
      "needs_background": "light"
     },
     "output_type": "display_data"
    },
    {
     "data": {
      "image/png": "[encoded data removed]",
      "text/plain": [
       "<Figure size 432x288 with 2 Axes>"
      ]
     },
     "metadata": {
      "needs_background": "light"
     },
     "output_type": "display_data"
    }
   ],
   "source": [
    "gb = XGBClassifier()\n",
    "mcc_scores = list()\n",
    "acc_scores = list()\n",
    "f1_scores = list()\n",
    "\n",
    "for train_index, test_index in tss.split(X, y):\n",
    "  X_train, X_test = X[train_index], X[test_index]\n",
    "  y_train, y_test = y[train_index], y[test_index]\n",
    "  gb.fit(X_train, y_train)\n",
    "  y_pred = gb.predict(X_test)\n",
    "  mcc_scores.append(round(matthews_corrcoef(y_test,y_pred),2))\n",
    "  acc_scores.append(round(accuracy_score(y_test,y_pred),2))\n",
    "  f1_scores.append(round(f1_score(y_test,y_pred, average='weighted'),2))\n",
    "  ConfusionMatrixDisplay.from_estimator(gb, X_test, y_test)\n",
    "\n",
    "print(\"MCC\", round(np.mean(mcc_scores),2))\n",
    "print(\"Accuracy\", round(np.mean(acc_scores),2))\n",
    "print(\"F1\", round(np.mean(f1_scores),2))"
   ]
  },
  {
   "cell_type": "markdown",
   "metadata": {},
   "source": [
    "MLP"
   ]
  },
  {
   "cell_type": "code",
   "execution_count": null,
   "metadata": {},
   "outputs": [],
   "source": [
    "mlp = MLPClassifier()\n",
    "mcc_scores = list()\n",
    "acc_scores = list()\n",
    "f1_scores = list()\n",
    "\n",
    "for train_index, test_index in tss.split(X, y):\n",
    "  X_train, X_test = X[train_index], X[test_index]\n",
    "  y_train, y_test = y[train_index], y[test_index]\n",
    "  mlp.fit(X_train, y_train)\n",
    "  y_pred = mlp.predict(X_test)\n",
    "  mcc_scores.append(round(matthews_corrcoef(y_test,y_pred),2))\n",
    "  acc_scores.append(round(accuracy_score(y_test,y_pred),2))\n",
    "  f1_scores.append(round(f1_score(y_test,y_pred, average='weighted'),2))\n",
    "  ConfusionMatrixDisplay.from_estimator(mlp, X_test, y_test)\n",
    "\n",
    "print(\"MCC\", round(np.mean(mcc_scores),2))\n",
    "print(\"Accuracy\", round(np.mean(acc_scores),2))\n",
    "print(\"F1\", round(np.mean(f1_scores),2))"
   ]
  },
  {
   "cell_type": "markdown",
   "metadata": {},
   "source": [
    "#### Baseline + Sentiments"
   ]
  },
  {
   "cell_type": "markdown",
   "metadata": {},
   "source": [
    "Create Baseline + Sentiments Dataset"
   ]
  },
  {
   "cell_type": "code",
   "execution_count": null,
   "metadata": {},
   "outputs": [],
   "source": [
    "data = topics.join(sentiments)\n",
    "\n",
    "dataset = data.join(Dataset().prepare(columns=[\"created_at\"]))\n",
    "dataset.sort_values(\"created_at\", inplace=True)\n",
    "dataset = dataset.reset_index()\n",
    "\n",
    "X = np.array(dataset.iloc[:,1:-3].values.tolist())\n",
    "y = np.array(dataset['class'].values.tolist())"
   ]
  },
  {
   "cell_type": "markdown",
   "metadata": {},
   "source": [
    "##### Classifiers trained with stratified cross validation"
   ]
  },
  {
   "cell_type": "markdown",
   "metadata": {},
   "source": [
    "KNN"
   ]
  },
  {
   "cell_type": "code",
   "execution_count": null,
   "metadata": {},
   "outputs": [],
   "source": [
    "knn = KNeighborsClassifier(n_jobs=-1)\n",
    "mcc_scores = list()\n",
    "acc_scores = list()\n",
    "f1_scores = list()\n",
    "\n",
    "for train_index, test_index in skf.split(X, y):\n",
    "  X_train, X_test = X[train_index], X[test_index]\n",
    "  y_train, y_test = y[train_index], y[test_index]\n",
    "  knn.fit(X_train, y_train)\n",
    "  y_pred = knn.predict(X_test)\n",
    "  mcc_scores.append(round(matthews_corrcoef(y_test,y_pred),2))\n",
    "  acc_scores.append(round(accuracy_score(y_test,y_pred),2))\n",
    "  f1_scores.append(round(f1_score(y_test,y_pred, average='weighted'),2))\n",
    "  ConfusionMatrixDisplay.from_estimator(knn, X_test, y_test)\n",
    "\n",
    "print(\"MCC\", round(np.mean(mcc_scores),2))\n",
    "print(\"Accuracy\", round(np.mean(acc_scores),2))\n",
    "print(\"F1\", round(np.mean(f1_scores),2))"
   ]
  },
  {
   "cell_type": "markdown",
   "metadata": {},
   "source": [
    "NB"
   ]
  },
  {
   "cell_type": "code",
   "execution_count": null,
   "metadata": {},
   "outputs": [],
   "source": [
    "nb = ComplementNB()\n",
    "mcc_scores = list()\n",
    "acc_scores = list()\n",
    "f1_scores = list()\n",
    "\n",
    "for train_index, test_index in skf.split(X, y):\n",
    "  X_train, X_test = X[train_index], X[test_index]\n",
    "  y_train, y_test = y[train_index], y[test_index]\n",
    "  nb.fit(X_train, y_train)\n",
    "  y_pred = nb.predict(X_test)\n",
    "  mcc_scores.append(round(matthews_corrcoef(y_test,y_pred),2))\n",
    "  acc_scores.append(round(accuracy_score(y_test,y_pred),2))\n",
    "  f1_scores.append(round(f1_score(y_test,y_pred, average='weighted'),2))\n",
    "  ConfusionMatrixDisplay.from_estimator(nb, X_test, y_test)\n",
    "\n",
    "print(\"MCC\", round(np.mean(mcc_scores),2))\n",
    "print(\"Accuracy\", round(np.mean(acc_scores),2))\n",
    "print(\"F1\", round(np.mean(f1_scores),2))"
   ]
  },
  {
   "cell_type": "markdown",
   "metadata": {},
   "source": [
    "SVC"
   ]
  },
  {
   "cell_type": "code",
   "execution_count": null,
   "metadata": {},
   "outputs": [],
   "source": [
    "svc = SVC(class_weight='balanced')\n",
    "mcc_scores = list()\n",
    "acc_scores = list()\n",
    "f1_scores = list()\n",
    "\n",
    "for train_index, test_index in skf.split(X, y):\n",
    "  X_train, X_test = X[train_index], X[test_index]\n",
    "  y_train, y_test = y[train_index], y[test_index]\n",
    "  svc.fit(X_train, y_train)\n",
    "  y_pred = svc.predict(X_test)\n",
    "  mcc_scores.append(round(matthews_corrcoef(y_test,y_pred),2))\n",
    "  acc_scores.append(round(accuracy_score(y_test,y_pred),2))\n",
    "  f1_scores.append(round(f1_score(y_test,y_pred, average='weighted'),2))\n",
    "  ConfusionMatrixDisplay.from_estimator(svc, X_test, y_test)\n",
    "\n",
    "print(\"MCC\", round(np.mean(mcc_scores),2))\n",
    "print(\"Accuracy\", round(np.mean(acc_scores),2))\n",
    "print(\"F1\", round(np.mean(f1_scores),2))"
   ]
  },
  {
   "cell_type": "markdown",
   "metadata": {},
   "source": [
    "DT"
   ]
  },
  {
   "cell_type": "code",
   "execution_count": null,
   "metadata": {},
   "outputs": [],
   "source": [
    "dt = DecisionTreeClassifier()\n",
    "mcc_scores = list()\n",
    "acc_scores = list()\n",
    "f1_scores = list()\n",
    "\n",
    "for train_index, test_index in skf.split(X, y):\n",
    "  X_train, X_test = X[train_index], X[test_index]\n",
    "  y_train, y_test = y[train_index], y[test_index]\n",
    "  dt.fit(X_train, y_train)\n",
    "  y_pred = dt.predict(X_test)\n",
    "  mcc_scores.append(round(matthews_corrcoef(y_test,y_pred),2))\n",
    "  acc_scores.append(round(accuracy_score(y_test,y_pred),2))\n",
    "  f1_scores.append(round(f1_score(y_test,y_pred, average='weighted'),2))\n",
    "  ConfusionMatrixDisplay.from_estimator(dt, X_test, y_test)\n",
    "\n",
    "print(\"MCC\", round(np.mean(mcc_scores),2))\n",
    "print(\"Accuracy\", round(np.mean(acc_scores),2))\n",
    "print(\"F1\", round(np.mean(f1_scores),2))"
   ]
  },
  {
   "cell_type": "markdown",
   "metadata": {},
   "source": [
    "RF"
   ]
  },
  {
   "cell_type": "code",
   "execution_count": null,
   "metadata": {},
   "outputs": [],
   "source": [
    "rf = RandomForestClassifier()\n",
    "mcc_scores = list()\n",
    "acc_scores = list()\n",
    "f1_scores = list()\n",
    "\n",
    "for train_index, test_index in skf.split(X, y):\n",
    "  X_train, X_test = X[train_index], X[test_index]\n",
    "  y_train, y_test = y[train_index], y[test_index]\n",
    "  rf.fit(X_train, y_train)\n",
    "  y_pred = rf.predict(X_test)\n",
    "  mcc_scores.append(round(matthews_corrcoef(y_test,y_pred),2))\n",
    "  acc_scores.append(round(accuracy_score(y_test,y_pred),2))\n",
    "  f1_scores.append(round(f1_score(y_test,y_pred, average='weighted'),2))\n",
    "  ConfusionMatrixDisplay.from_estimator(rf, X_test, y_test)\n",
    "\n",
    "print(\"MCC\", round(np.mean(mcc_scores),2))\n",
    "print(\"Accuracy\", round(np.mean(acc_scores),2))\n",
    "print(\"F1\", round(np.mean(f1_scores),2))"
   ]
  },
  {
   "cell_type": "markdown",
   "metadata": {},
   "source": [
    "GB"
   ]
  },
  {
   "cell_type": "code",
   "execution_count": null,
   "metadata": {},
   "outputs": [],
   "source": [
    "gb = XGBClassifier()\n",
    "mcc_scores = list()\n",
    "acc_scores = list()\n",
    "f1_scores = list()\n",
    "\n",
    "for train_index, test_index in skf.split(X, y):\n",
    "  X_train, X_test = X[train_index], X[test_index]\n",
    "  y_train, y_test = y[train_index], y[test_index]\n",
    "  gb.fit(X_train, y_train)\n",
    "  y_pred = gb.predict(X_test)\n",
    "  mcc_scores.append(round(matthews_corrcoef(y_test,y_pred),2))\n",
    "  acc_scores.append(round(accuracy_score(y_test,y_pred),2))\n",
    "  f1_scores.append(round(f1_score(y_test,y_pred, average='weighted'),2))\n",
    "  ConfusionMatrixDisplay.from_estimator(gb, X_test, y_test)\n",
    "\n",
    "print(\"MCC\", round(np.mean(mcc_scores),2))\n",
    "print(\"Accuracy\", round(np.mean(acc_scores),2))\n",
    "print(\"F1\", round(np.mean(f1_scores),2))"
   ]
  },
  {
   "cell_type": "markdown",
   "metadata": {},
   "source": [
    "MLP"
   ]
  },
  {
   "cell_type": "code",
   "execution_count": null,
   "metadata": {},
   "outputs": [],
   "source": [
    "mlp = MLPClassifier()\n",
    "mcc_scores = list()\n",
    "acc_scores = list()\n",
    "f1_scores = list()\n",
    "\n",
    "for train_index, test_index in skf.split(X, y):\n",
    "  X_train, X_test = X[train_index], X[test_index]\n",
    "  y_train, y_test = y[train_index], y[test_index]\n",
    "  mlp.fit(X_train, y_train)\n",
    "  y_pred = mlp.predict(X_test)\n",
    "  mcc_scores.append(round(matthews_corrcoef(y_test,y_pred),2))\n",
    "  acc_scores.append(round(accuracy_score(y_test,y_pred),2))\n",
    "  f1_scores.append(round(f1_score(y_test,y_pred, average='weighted'),2))\n",
    "  ConfusionMatrixDisplay.from_estimator(mlp, X_test, y_test)\n",
    "\n",
    "print(\"MCC\", round(np.mean(mcc_scores),2))\n",
    "print(\"Accuracy\", round(np.mean(acc_scores),2))\n",
    "print(\"F1\", round(np.mean(f1_scores),2))"
   ]
  },
  {
   "cell_type": "markdown",
   "metadata": {},
   "source": [
    "##### Classifiers trained with timesplit cross validation"
   ]
  },
  {
   "cell_type": "markdown",
   "metadata": {},
   "source": [
    "KNN"
   ]
  },
  {
   "cell_type": "code",
   "execution_count": null,
   "metadata": {},
   "outputs": [],
   "source": [
    "knn = KNeighborsClassifier(n_jobs=-1)\n",
    "mcc_scores = list()\n",
    "acc_scores = list()\n",
    "f1_scores = list()\n",
    "\n",
    "for train_index, test_index in tss.split(X, y):\n",
    "  X_train, X_test = X[train_index], X[test_index]\n",
    "  y_train, y_test = y[train_index], y[test_index]\n",
    "  knn.fit(X_train, y_train)\n",
    "  y_pred = knn.predict(X_test)\n",
    "  mcc_scores.append(round(matthews_corrcoef(y_test,y_pred),2))\n",
    "  acc_scores.append(round(accuracy_score(y_test,y_pred),2))\n",
    "  f1_scores.append(round(f1_score(y_test,y_pred, average='weighted'),2))\n",
    "  ConfusionMatrixDisplay.from_estimator(knn, X_test, y_test)\n",
    "\n",
    "print(\"MCC\", round(np.mean(mcc_scores),2))\n",
    "print(\"Accuracy\", round(np.mean(acc_scores),2))\n",
    "print(\"F1\", round(np.mean(f1_scores),2))"
   ]
  },
  {
   "cell_type": "markdown",
   "metadata": {},
   "source": [
    "NB"
   ]
  },
  {
   "cell_type": "code",
   "execution_count": null,
   "metadata": {},
   "outputs": [],
   "source": [
    "nb = ComplementNB()\n",
    "mcc_scores = list()\n",
    "acc_scores = list()\n",
    "f1_scores = list()\n",
    "\n",
    "for train_index, test_index in tss.split(X, y):\n",
    "  X_train, X_test = X[train_index], X[test_index]\n",
    "  y_train, y_test = y[train_index], y[test_index]\n",
    "  nb.fit(X_train, y_train)\n",
    "  y_pred = nb.predict(X_test)\n",
    "  mcc_scores.append(round(matthews_corrcoef(y_test,y_pred),2))\n",
    "  acc_scores.append(round(accuracy_score(y_test,y_pred),2))\n",
    "  f1_scores.append(round(f1_score(y_test,y_pred, average='weighted'),2))\n",
    "  ConfusionMatrixDisplay.from_estimator(nb, X_test, y_test)\n",
    "\n",
    "print(\"MCC\", round(np.mean(mcc_scores),2))\n",
    "print(\"Accuracy\", round(np.mean(acc_scores),2))\n",
    "print(\"F1\", round(np.mean(f1_scores),2))"
   ]
  },
  {
   "cell_type": "markdown",
   "metadata": {},
   "source": [
    "SVC"
   ]
  },
  {
   "cell_type": "code",
   "execution_count": null,
   "metadata": {},
   "outputs": [],
   "source": [
    "svc = SVC(class_weight='balanced')\n",
    "mcc_scores = list()\n",
    "acc_scores = list()\n",
    "f1_scores = list()\n",
    "\n",
    "for train_index, test_index in tss.split(X, y):\n",
    "  X_train, X_test = X[train_index], X[test_index]\n",
    "  y_train, y_test = y[train_index], y[test_index]\n",
    "  svc.fit(X_train, y_train)\n",
    "  y_pred = svc.predict(X_test)\n",
    "  mcc_scores.append(round(matthews_corrcoef(y_test,y_pred),2))\n",
    "  acc_scores.append(round(accuracy_score(y_test,y_pred),2))\n",
    "  f1_scores.append(round(f1_score(y_test,y_pred, average='weighted'),2))\n",
    "  ConfusionMatrixDisplay.from_estimator(svc, X_test, y_test)\n",
    "\n",
    "print(\"MCC\", round(np.mean(mcc_scores),2))\n",
    "print(\"Accuracy\", round(np.mean(acc_scores),2))\n",
    "print(\"F1\", round(np.mean(f1_scores),2))"
   ]
  },
  {
   "cell_type": "markdown",
   "metadata": {},
   "source": [
    "DT"
   ]
  },
  {
   "cell_type": "code",
   "execution_count": null,
   "metadata": {},
   "outputs": [],
   "source": [
    "dt = DecisionTreeClassifier()\n",
    "mcc_scores = list()\n",
    "acc_scores = list()\n",
    "f1_scores = list()\n",
    "\n",
    "for train_index, test_index in tss.split(X, y):\n",
    "  X_train, X_test = X[train_index], X[test_index]\n",
    "  y_train, y_test = y[train_index], y[test_index]\n",
    "  dt.fit(X_train, y_train)\n",
    "  y_pred = dt.predict(X_test)\n",
    "  mcc_scores.append(round(matthews_corrcoef(y_test,y_pred),2))\n",
    "  acc_scores.append(round(accuracy_score(y_test,y_pred),2))\n",
    "  f1_scores.append(round(f1_score(y_test,y_pred, average='weighted'),2))\n",
    "  ConfusionMatrixDisplay.from_estimator(dt, X_test, y_test)\n",
    "\n",
    "print(\"MCC\", round(np.mean(mcc_scores),2))\n",
    "print(\"Accuracy\", round(np.mean(acc_scores),2))\n",
    "print(\"F1\", round(np.mean(f1_scores),2))"
   ]
  },
  {
   "cell_type": "markdown",
   "metadata": {},
   "source": [
    "RF"
   ]
  },
  {
   "cell_type": "code",
   "execution_count": null,
   "metadata": {},
   "outputs": [],
   "source": [
    "rf = RandomForestClassifier()\n",
    "mcc_scores = list()\n",
    "acc_scores = list()\n",
    "f1_scores = list()\n",
    "\n",
    "for train_index, test_index in tss.split(X, y):\n",
    "  X_train, X_test = X[train_index], X[test_index]\n",
    "  y_train, y_test = y[train_index], y[test_index]\n",
    "  rf.fit(X_train, y_train)\n",
    "  y_pred = rf.predict(X_test)\n",
    "  mcc_scores.append(round(matthews_corrcoef(y_test,y_pred),2))\n",
    "  acc_scores.append(round(accuracy_score(y_test,y_pred),2))\n",
    "  f1_scores.append(round(f1_score(y_test,y_pred, average='weighted'),2))\n",
    "  ConfusionMatrixDisplay.from_estimator(rf, X_test, y_test)\n",
    "\n",
    "print(\"MCC\", round(np.mean(mcc_scores),2))\n",
    "print(\"Accuracy\", round(np.mean(acc_scores),2))\n",
    "print(\"F1\", round(np.mean(f1_scores),2))"
   ]
  },
  {
   "cell_type": "markdown",
   "metadata": {},
   "source": [
    "GB"
   ]
  },
  {
   "cell_type": "code",
   "execution_count": null,
   "metadata": {},
   "outputs": [],
   "source": [
    "gb = XGBClassifier()\n",
    "mcc_scores = list()\n",
    "acc_scores = list()\n",
    "f1_scores = list()\n",
    "\n",
    "for train_index, test_index in tss.split(X, y):\n",
    "  X_train, X_test = X[train_index], X[test_index]\n",
    "  y_train, y_test = y[train_index], y[test_index]\n",
    "  gb.fit(X_train, y_train)\n",
    "  y_pred = gb.predict(X_test)\n",
    "  mcc_scores.append(round(matthews_corrcoef(y_test,y_pred),2))\n",
    "  acc_scores.append(round(accuracy_score(y_test,y_pred),2))\n",
    "  f1_scores.append(round(f1_score(y_test,y_pred, average='weighted'),2))\n",
    "  ConfusionMatrixDisplay.from_estimator(gb, X_test, y_test)\n",
    "\n",
    "print(\"MCC\", round(np.mean(mcc_scores),2))\n",
    "print(\"Accuracy\", round(np.mean(acc_scores),2))\n",
    "print(\"F1\", round(np.mean(f1_scores),2))"
   ]
  },
  {
   "cell_type": "markdown",
   "metadata": {},
   "source": [
    "MLP"
   ]
  },
  {
   "cell_type": "code",
   "execution_count": null,
   "metadata": {},
   "outputs": [],
   "source": [
    "mlp = MLPClassifier()\n",
    "mcc_scores = list()\n",
    "acc_scores = list()\n",
    "f1_scores = list()\n",
    "\n",
    "for train_index, test_index in tss.split(X, y):\n",
    "  X_train, X_test = X[train_index], X[test_index]\n",
    "  y_train, y_test = y[train_index], y[test_index]\n",
    "  mlp.fit(X_train, y_train)\n",
    "  y_pred = mlp.predict(X_test)\n",
    "  mcc_scores.append(round(matthews_corrcoef(y_test,y_pred),2))\n",
    "  acc_scores.append(round(accuracy_score(y_test,y_pred),2))\n",
    "  f1_scores.append(round(f1_score(y_test,y_pred, average='weighted'),2))\n",
    "  ConfusionMatrixDisplay.from_estimator(mlp, X_test, y_test)\n",
    "\n",
    "print(\"MCC\", round(np.mean(mcc_scores),2))\n",
    "print(\"Accuracy\", round(np.mean(acc_scores),2))\n",
    "print(\"F1\", round(np.mean(f1_scores),2))"
   ]
  },
  {
   "cell_type": "markdown",
   "metadata": {},
   "source": [
    "#### Baseline + Sentiments + NER"
   ]
  },
  {
   "cell_type": "markdown",
   "metadata": {},
   "source": [
    "Create Baseline + Sentiments + NER Dataset"
   ]
  },
  {
   "cell_type": "code",
   "execution_count": null,
   "metadata": {},
   "outputs": [],
   "source": [
    "data = topics.join(sentiments).join(ner)\n",
    "\n",
    "dataset = data.join(Dataset().prepare(columns=[\"created_at\"]))\n",
    "dataset.sort_values(\"created_at\", inplace=True)\n",
    "dataset = dataset.reset_index()\n",
    "\n",
    "X = np.array(dataset.iloc[:,1:-3].values.tolist())\n",
    "y = np.array(dataset['class'].values.tolist())"
   ]
  },
  {
   "cell_type": "markdown",
   "metadata": {},
   "source": [
    "##### Classifiers trained with stratified cross validation"
   ]
  },
  {
   "cell_type": "markdown",
   "metadata": {},
   "source": [
    "KNN"
   ]
  },
  {
   "cell_type": "code",
   "execution_count": null,
   "metadata": {},
   "outputs": [],
   "source": [
    "knn = KNeighborsClassifier(n_jobs=-1)\n",
    "mcc_scores = list()\n",
    "acc_scores = list()\n",
    "f1_scores = list()\n",
    "\n",
    "for train_index, test_index in skf.split(X, y):\n",
    "  X_train, X_test = X[train_index], X[test_index]\n",
    "  y_train, y_test = y[train_index], y[test_index]\n",
    "  knn.fit(X_train, y_train)\n",
    "  y_pred = knn.predict(X_test)\n",
    "  mcc_scores.append(round(matthews_corrcoef(y_test,y_pred),2))\n",
    "  acc_scores.append(round(accuracy_score(y_test,y_pred),2))\n",
    "  f1_scores.append(round(f1_score(y_test,y_pred, average='weighted'),2))\n",
    "  ConfusionMatrixDisplay.from_estimator(knn, X_test, y_test)\n",
    "\n",
    "print(\"MCC\", round(np.mean(mcc_scores),2))\n",
    "print(\"Accuracy\", round(np.mean(acc_scores),2))\n",
    "print(\"F1\", round(np.mean(f1_scores),2))"
   ]
  },
  {
   "cell_type": "markdown",
   "metadata": {},
   "source": [
    "NB"
   ]
  },
  {
   "cell_type": "code",
   "execution_count": null,
   "metadata": {},
   "outputs": [],
   "source": [
    "nb = ComplementNB()\n",
    "mcc_scores = list()\n",
    "acc_scores = list()\n",
    "f1_scores = list()\n",
    "\n",
    "for train_index, test_index in skf.split(X, y):\n",
    "  X_train, X_test = X[train_index], X[test_index]\n",
    "  y_train, y_test = y[train_index], y[test_index]\n",
    "  nb.fit(X_train, y_train)\n",
    "  y_pred = nb.predict(X_test)\n",
    "  mcc_scores.append(round(matthews_corrcoef(y_test,y_pred),2))\n",
    "  acc_scores.append(round(accuracy_score(y_test,y_pred),2))\n",
    "  f1_scores.append(round(f1_score(y_test,y_pred, average='weighted'),2))\n",
    "  ConfusionMatrixDisplay.from_estimator(nb, X_test, y_test)\n",
    "\n",
    "print(\"MCC\", round(np.mean(mcc_scores),2))\n",
    "print(\"Accuracy\", round(np.mean(acc_scores),2))\n",
    "print(\"F1\", round(np.mean(f1_scores),2))"
   ]
  },
  {
   "cell_type": "markdown",
   "metadata": {},
   "source": [
    "SVC"
   ]
  },
  {
   "cell_type": "code",
   "execution_count": null,
   "metadata": {},
   "outputs": [],
   "source": [
    "svc = SVC(class_weight='balanced')\n",
    "mcc_scores = list()\n",
    "acc_scores = list()\n",
    "f1_scores = list()\n",
    "\n",
    "for train_index, test_index in skf.split(X, y):\n",
    "  X_train, X_test = X[train_index], X[test_index]\n",
    "  y_train, y_test = y[train_index], y[test_index]\n",
    "  svc.fit(X_train, y_train)\n",
    "  y_pred = svc.predict(X_test)\n",
    "  mcc_scores.append(round(matthews_corrcoef(y_test,y_pred),2))\n",
    "  acc_scores.append(round(accuracy_score(y_test,y_pred),2))\n",
    "  f1_scores.append(round(f1_score(y_test,y_pred, average='weighted'),2))\n",
    "  ConfusionMatrixDisplay.from_estimator(svc, X_test, y_test)\n",
    "\n",
    "print(\"MCC\", round(np.mean(mcc_scores),2))\n",
    "print(\"Accuracy\", round(np.mean(acc_scores),2))\n",
    "print(\"F1\", round(np.mean(f1_scores),2))"
   ]
  },
  {
   "cell_type": "markdown",
   "metadata": {},
   "source": [
    "DT"
   ]
  },
  {
   "cell_type": "code",
   "execution_count": null,
   "metadata": {},
   "outputs": [],
   "source": [
    "dt = DecisionTreeClassifier()\n",
    "mcc_scores = list()\n",
    "acc_scores = list()\n",
    "f1_scores = list()\n",
    "\n",
    "for train_index, test_index in skf.split(X, y):\n",
    "  X_train, X_test = X[train_index], X[test_index]\n",
    "  y_train, y_test = y[train_index], y[test_index]\n",
    "  dt.fit(X_train, y_train)\n",
    "  y_pred = dt.predict(X_test)\n",
    "  mcc_scores.append(round(matthews_corrcoef(y_test,y_pred),2))\n",
    "  acc_scores.append(round(accuracy_score(y_test,y_pred),2))\n",
    "  f1_scores.append(round(f1_score(y_test,y_pred, average='weighted'),2))\n",
    "  ConfusionMatrixDisplay.from_estimator(dt, X_test, y_test)\n",
    "\n",
    "print(\"MCC\", round(np.mean(mcc_scores),2))\n",
    "print(\"Accuracy\", round(np.mean(acc_scores),2))\n",
    "print(\"F1\", round(np.mean(f1_scores),2))"
   ]
  },
  {
   "cell_type": "markdown",
   "metadata": {},
   "source": [
    "RF"
   ]
  },
  {
   "cell_type": "code",
   "execution_count": null,
   "metadata": {},
   "outputs": [],
   "source": [
    "rf = RandomForestClassifier()\n",
    "mcc_scores = list()\n",
    "acc_scores = list()\n",
    "f1_scores = list()\n",
    "\n",
    "for train_index, test_index in skf.split(X, y):\n",
    "  X_train, X_test = X[train_index], X[test_index]\n",
    "  y_train, y_test = y[train_index], y[test_index]\n",
    "  rf.fit(X_train, y_train)\n",
    "  y_pred = rf.predict(X_test)\n",
    "  mcc_scores.append(round(matthews_corrcoef(y_test,y_pred),2))\n",
    "  acc_scores.append(round(accuracy_score(y_test,y_pred),2))\n",
    "  f1_scores.append(round(f1_score(y_test,y_pred, average='weighted'),2))\n",
    "  ConfusionMatrixDisplay.from_estimator(rf, X_test, y_test)\n",
    "\n",
    "print(\"MCC\", round(np.mean(mcc_scores),2))\n",
    "print(\"Accuracy\", round(np.mean(acc_scores),2))\n",
    "print(\"F1\", round(np.mean(f1_scores),2))"
   ]
  },
  {
   "cell_type": "markdown",
   "metadata": {},
   "source": [
    "GB"
   ]
  },
  {
   "cell_type": "code",
   "execution_count": null,
   "metadata": {},
   "outputs": [],
   "source": [
    "gb = XGBClassifier()\n",
    "mcc_scores = list()\n",
    "acc_scores = list()\n",
    "f1_scores = list()\n",
    "\n",
    "for train_index, test_index in skf.split(X, y):\n",
    "  X_train, X_test = X[train_index], X[test_index]\n",
    "  y_train, y_test = y[train_index], y[test_index]\n",
    "  gb.fit(X_train, y_train)\n",
    "  y_pred = gb.predict(X_test)\n",
    "  mcc_scores.append(round(matthews_corrcoef(y_test,y_pred),2))\n",
    "  acc_scores.append(round(accuracy_score(y_test,y_pred),2))\n",
    "  f1_scores.append(round(f1_score(y_test,y_pred, average='weighted'),2))\n",
    "  ConfusionMatrixDisplay.from_estimator(gb, X_test, y_test)\n",
    "\n",
    "print(\"MCC\", round(np.mean(mcc_scores),2))\n",
    "print(\"Accuracy\", round(np.mean(acc_scores),2))\n",
    "print(\"F1\", round(np.mean(f1_scores),2))"
   ]
  },
  {
   "cell_type": "markdown",
   "metadata": {},
   "source": [
    "MLP"
   ]
  },
  {
   "cell_type": "code",
   "execution_count": null,
   "metadata": {},
   "outputs": [],
   "source": [
    "mlp = MLPClassifier()\n",
    "mcc_scores = list()\n",
    "acc_scores = list()\n",
    "f1_scores = list()\n",
    "\n",
    "for train_index, test_index in skf.split(X, y):\n",
    "  X_train, X_test = X[train_index], X[test_index]\n",
    "  y_train, y_test = y[train_index], y[test_index]\n",
    "  mlp.fit(X_train, y_train)\n",
    "  y_pred = mlp.predict(X_test)\n",
    "  mcc_scores.append(round(matthews_corrcoef(y_test,y_pred),2))\n",
    "  acc_scores.append(round(accuracy_score(y_test,y_pred),2))\n",
    "  f1_scores.append(round(f1_score(y_test,y_pred, average='weighted'),2))\n",
    "  ConfusionMatrixDisplay.from_estimator(mlp, X_test, y_test)\n",
    "\n",
    "print(\"MCC\", round(np.mean(mcc_scores),2))\n",
    "print(\"Accuracy\", round(np.mean(acc_scores),2))\n",
    "print(\"F1\", round(np.mean(f1_scores),2))"
   ]
  },
  {
   "cell_type": "markdown",
   "metadata": {},
   "source": [
    "##### Classifiers trained with timesplit cross validation"
   ]
  },
  {
   "cell_type": "markdown",
   "metadata": {},
   "source": [
    "KNN"
   ]
  },
  {
   "cell_type": "code",
   "execution_count": null,
   "metadata": {},
   "outputs": [],
   "source": [
    "knn = KNeighborsClassifier(n_jobs=-1)\n",
    "mcc_scores = list()\n",
    "acc_scores = list()\n",
    "f1_scores = list()\n",
    "\n",
    "for train_index, test_index in tss.split(X, y):\n",
    "  X_train, X_test = X[train_index], X[test_index]\n",
    "  y_train, y_test = y[train_index], y[test_index]\n",
    "  knn.fit(X_train, y_train)\n",
    "  y_pred = knn.predict(X_test)\n",
    "  mcc_scores.append(round(matthews_corrcoef(y_test,y_pred),2))\n",
    "  acc_scores.append(round(accuracy_score(y_test,y_pred),2))\n",
    "  f1_scores.append(round(f1_score(y_test,y_pred, average='weighted'),2))\n",
    "  ConfusionMatrixDisplay.from_estimator(knn, X_test, y_test)\n",
    "\n",
    "print(\"MCC\", round(np.mean(mcc_scores),2))\n",
    "print(\"Accuracy\", round(np.mean(acc_scores),2))\n",
    "print(\"F1\", round(np.mean(f1_scores),2))"
   ]
  },
  {
   "cell_type": "markdown",
   "metadata": {},
   "source": [
    "NB"
   ]
  },
  {
   "cell_type": "code",
   "execution_count": null,
   "metadata": {},
   "outputs": [],
   "source": [
    "nb = ComplementNB()\n",
    "mcc_scores = list()\n",
    "acc_scores = list()\n",
    "f1_scores = list()\n",
    "\n",
    "for train_index, test_index in tss.split(X, y):\n",
    "  X_train, X_test = X[train_index], X[test_index]\n",
    "  y_train, y_test = y[train_index], y[test_index]\n",
    "  nb.fit(X_train, y_train)\n",
    "  y_pred = nb.predict(X_test)\n",
    "  mcc_scores.append(round(matthews_corrcoef(y_test,y_pred),2))\n",
    "  acc_scores.append(round(accuracy_score(y_test,y_pred),2))\n",
    "  f1_scores.append(round(f1_score(y_test,y_pred, average='weighted'),2))\n",
    "  ConfusionMatrixDisplay.from_estimator(nb, X_test, y_test)\n",
    "\n",
    "print(\"MCC\", round(np.mean(mcc_scores),2))\n",
    "print(\"Accuracy\", round(np.mean(acc_scores),2))\n",
    "print(\"F1\", round(np.mean(f1_scores),2))"
   ]
  },
  {
   "cell_type": "markdown",
   "metadata": {},
   "source": [
    "SVC"
   ]
  },
  {
   "cell_type": "code",
   "execution_count": null,
   "metadata": {},
   "outputs": [],
   "source": [
    "svc = SVC(class_weight='balanced')\n",
    "mcc_scores = list()\n",
    "acc_scores = list()\n",
    "f1_scores = list()\n",
    "\n",
    "for train_index, test_index in tss.split(X, y):\n",
    "  X_train, X_test = X[train_index], X[test_index]\n",
    "  y_train, y_test = y[train_index], y[test_index]\n",
    "  svc.fit(X_train, y_train)\n",
    "  y_pred = svc.predict(X_test)\n",
    "  mcc_scores.append(round(matthews_corrcoef(y_test,y_pred),2))\n",
    "  acc_scores.append(round(accuracy_score(y_test,y_pred),2))\n",
    "  f1_scores.append(round(f1_score(y_test,y_pred, average='weighted'),2))\n",
    "  ConfusionMatrixDisplay.from_estimator(svc, X_test, y_test)\n",
    "\n",
    "print(\"MCC\", round(np.mean(mcc_scores),2))\n",
    "print(\"Accuracy\", round(np.mean(acc_scores),2))\n",
    "print(\"F1\", round(np.mean(f1_scores),2))"
   ]
  },
  {
   "cell_type": "markdown",
   "metadata": {},
   "source": [
    "DT"
   ]
  },
  {
   "cell_type": "code",
   "execution_count": null,
   "metadata": {},
   "outputs": [],
   "source": [
    "dt = DecisionTreeClassifier()\n",
    "mcc_scores = list()\n",
    "acc_scores = list()\n",
    "f1_scores = list()\n",
    "\n",
    "for train_index, test_index in tss.split(X, y):\n",
    "  X_train, X_test = X[train_index], X[test_index]\n",
    "  y_train, y_test = y[train_index], y[test_index]\n",
    "  dt.fit(X_train, y_train)\n",
    "  y_pred = dt.predict(X_test)\n",
    "  mcc_scores.append(round(matthews_corrcoef(y_test,y_pred),2))\n",
    "  acc_scores.append(round(accuracy_score(y_test,y_pred),2))\n",
    "  f1_scores.append(round(f1_score(y_test,y_pred, average='weighted'),2))\n",
    "  ConfusionMatrixDisplay.from_estimator(dt, X_test, y_test)\n",
    "\n",
    "print(\"MCC\", round(np.mean(mcc_scores),2))\n",
    "print(\"Accuracy\", round(np.mean(acc_scores),2))\n",
    "print(\"F1\", round(np.mean(f1_scores),2))"
   ]
  },
  {
   "cell_type": "markdown",
   "metadata": {},
   "source": [
    "RF"
   ]
  },
  {
   "cell_type": "code",
   "execution_count": null,
   "metadata": {},
   "outputs": [],
   "source": [
    "rf = RandomForestClassifier()\n",
    "mcc_scores = list()\n",
    "acc_scores = list()\n",
    "f1_scores = list()\n",
    "\n",
    "for train_index, test_index in tss.split(X, y):\n",
    "  X_train, X_test = X[train_index], X[test_index]\n",
    "  y_train, y_test = y[train_index], y[test_index]\n",
    "  rf.fit(X_train, y_train)\n",
    "  y_pred = rf.predict(X_test)\n",
    "  mcc_scores.append(round(matthews_corrcoef(y_test,y_pred),2))\n",
    "  acc_scores.append(round(accuracy_score(y_test,y_pred),2))\n",
    "  f1_scores.append(round(f1_score(y_test,y_pred, average='weighted'),2))\n",
    "  ConfusionMatrixDisplay.from_estimator(rf, X_test, y_test)\n",
    "\n",
    "print(\"MCC\", round(np.mean(mcc_scores),2))\n",
    "print(\"Accuracy\", round(np.mean(acc_scores),2))\n",
    "print(\"F1\", round(np.mean(f1_scores),2))"
   ]
  },
  {
   "cell_type": "markdown",
   "metadata": {},
   "source": [
    "GB"
   ]
  },
  {
   "cell_type": "code",
   "execution_count": null,
   "metadata": {},
   "outputs": [],
   "source": [
    "gb = XGBClassifier()\n",
    "mcc_scores = list()\n",
    "acc_scores = list()\n",
    "f1_scores = list()\n",
    "\n",
    "for train_index, test_index in tss.split(X, y):\n",
    "  X_train, X_test = X[train_index], X[test_index]\n",
    "  y_train, y_test = y[train_index], y[test_index]\n",
    "  gb.fit(X_train, y_train)\n",
    "  y_pred = gb.predict(X_test)\n",
    "  mcc_scores.append(round(matthews_corrcoef(y_test,y_pred),2))\n",
    "  acc_scores.append(round(accuracy_score(y_test,y_pred),2))\n",
    "  f1_scores.append(round(f1_score(y_test,y_pred, average='weighted'),2))\n",
    "  ConfusionMatrixDisplay.from_estimator(gb, X_test, y_test)\n",
    "\n",
    "print(\"MCC\", round(np.mean(mcc_scores),2))\n",
    "print(\"Accuracy\", round(np.mean(acc_scores),2))\n",
    "print(\"F1\", round(np.mean(f1_scores),2))"
   ]
  },
  {
   "cell_type": "markdown",
   "metadata": {},
   "source": [
    "MLP"
   ]
  },
  {
   "cell_type": "code",
   "execution_count": null,
   "metadata": {},
   "outputs": [],
   "source": [
    "mlp = MLPClassifier()\n",
    "mcc_scores = list()\n",
    "acc_scores = list()\n",
    "f1_scores = list()\n",
    "\n",
    "for train_index, test_index in tss.split(X, y):\n",
    "  X_train, X_test = X[train_index], X[test_index]\n",
    "  y_train, y_test = y[train_index], y[test_index]\n",
    "  mlp.fit(X_train, y_train)\n",
    "  y_pred = mlp.predict(X_test)\n",
    "  mcc_scores.append(round(matthews_corrcoef(y_test,y_pred),2))\n",
    "  acc_scores.append(round(accuracy_score(y_test,y_pred),2))\n",
    "  f1_scores.append(round(f1_score(y_test,y_pred, average='weighted'),2))\n",
    "  ConfusionMatrixDisplay.from_estimator(mlp, X_test, y_test)\n",
    "\n",
    "print(\"MCC\", round(np.mean(mcc_scores),2))\n",
    "print(\"Accuracy\", round(np.mean(acc_scores),2))\n",
    "print(\"F1\", round(np.mean(f1_scores),2))"
   ]
  },
  {
   "cell_type": "markdown",
   "metadata": {},
   "source": [
    "#### Baseline + Sentiments + NER + Petitions on same day"
   ]
  },
  {
   "cell_type": "markdown",
   "metadata": {},
   "source": [
    "Create Baseline + Sentiments + NER + Petitions on same day Dataset"
   ]
  },
  {
   "cell_type": "code",
   "execution_count": null,
   "metadata": {},
   "outputs": [],
   "source": [
    "data = topics.join(sentiments).join(ner).join(same_day)\n",
    "\n",
    "dataset = data.join(Dataset().prepare(columns=[\"created_at\"]))\n",
    "dataset.sort_values(\"created_at\", inplace=True)\n",
    "dataset = dataset.reset_index()\n",
    "\n",
    "X = np.array(dataset.iloc[:,1:-3].values.tolist())\n",
    "y = np.array(dataset['class'].values.tolist())"
   ]
  },
  {
   "cell_type": "markdown",
   "metadata": {},
   "source": [
    "##### Classifiers trained with stratified cross validation"
   ]
  },
  {
   "cell_type": "markdown",
   "metadata": {},
   "source": [
    "KNN"
   ]
  },
  {
   "cell_type": "code",
   "execution_count": null,
   "metadata": {},
   "outputs": [],
   "source": [
    "knn = KNeighborsClassifier(n_jobs=-1)\n",
    "mcc_scores = list()\n",
    "acc_scores = list()\n",
    "f1_scores = list()\n",
    "\n",
    "for train_index, test_index in skf.split(X, y):\n",
    "  X_train, X_test = X[train_index], X[test_index]\n",
    "  y_train, y_test = y[train_index], y[test_index]\n",
    "  knn.fit(X_train, y_train)\n",
    "  y_pred = knn.predict(X_test)\n",
    "  mcc_scores.append(round(matthews_corrcoef(y_test,y_pred),2))\n",
    "  acc_scores.append(round(accuracy_score(y_test,y_pred),2))\n",
    "  f1_scores.append(round(f1_score(y_test,y_pred, average='weighted'),2))\n",
    "  ConfusionMatrixDisplay.from_estimator(knn, X_test, y_test)\n",
    "\n",
    "print(\"MCC\", round(np.mean(mcc_scores),2))\n",
    "print(\"Accuracy\", round(np.mean(acc_scores),2))\n",
    "print(\"F1\", round(np.mean(f1_scores),2))"
   ]
  },
  {
   "cell_type": "markdown",
   "metadata": {},
   "source": [
    "NB"
   ]
  },
  {
   "cell_type": "code",
   "execution_count": null,
   "metadata": {},
   "outputs": [],
   "source": [
    "nb = ComplementNB()\n",
    "mcc_scores = list()\n",
    "acc_scores = list()\n",
    "f1_scores = list()\n",
    "\n",
    "for train_index, test_index in skf.split(X, y):\n",
    "  X_train, X_test = X[train_index], X[test_index]\n",
    "  y_train, y_test = y[train_index], y[test_index]\n",
    "  nb.fit(X_train, y_train)\n",
    "  y_pred = nb.predict(X_test)\n",
    "  mcc_scores.append(round(matthews_corrcoef(y_test,y_pred),2))\n",
    "  acc_scores.append(round(accuracy_score(y_test,y_pred),2))\n",
    "  f1_scores.append(round(f1_score(y_test,y_pred, average='weighted'),2))\n",
    "  ConfusionMatrixDisplay.from_estimator(nb, X_test, y_test)\n",
    "\n",
    "print(\"MCC\", round(np.mean(mcc_scores),2))\n",
    "print(\"Accuracy\", round(np.mean(acc_scores),2))\n",
    "print(\"F1\", round(np.mean(f1_scores),2))"
   ]
  },
  {
   "cell_type": "markdown",
   "metadata": {},
   "source": [
    "SVC"
   ]
  },
  {
   "cell_type": "code",
   "execution_count": null,
   "metadata": {},
   "outputs": [],
   "source": [
    "svc = SVC(class_weight='balanced')\n",
    "mcc_scores = list()\n",
    "acc_scores = list()\n",
    "f1_scores = list()\n",
    "\n",
    "for train_index, test_index in skf.split(X, y):\n",
    "  X_train, X_test = X[train_index], X[test_index]\n",
    "  y_train, y_test = y[train_index], y[test_index]\n",
    "  svc.fit(X_train, y_train)\n",
    "  y_pred = svc.predict(X_test)\n",
    "  mcc_scores.append(round(matthews_corrcoef(y_test,y_pred),2))\n",
    "  acc_scores.append(round(accuracy_score(y_test,y_pred),2))\n",
    "  f1_scores.append(round(f1_score(y_test,y_pred, average='weighted'),2))\n",
    "  ConfusionMatrixDisplay.from_estimator(svc, X_test, y_test)\n",
    "\n",
    "print(\"MCC\", round(np.mean(mcc_scores),2))\n",
    "print(\"Accuracy\", round(np.mean(acc_scores),2))\n",
    "print(\"F1\", round(np.mean(f1_scores),2))"
   ]
  },
  {
   "cell_type": "markdown",
   "metadata": {},
   "source": [
    "DT"
   ]
  },
  {
   "cell_type": "code",
   "execution_count": null,
   "metadata": {},
   "outputs": [],
   "source": [
    "dt = DecisionTreeClassifier()\n",
    "mcc_scores = list()\n",
    "acc_scores = list()\n",
    "f1_scores = list()\n",
    "\n",
    "for train_index, test_index in skf.split(X, y):\n",
    "  X_train, X_test = X[train_index], X[test_index]\n",
    "  y_train, y_test = y[train_index], y[test_index]\n",
    "  dt.fit(X_train, y_train)\n",
    "  y_pred = dt.predict(X_test)\n",
    "  mcc_scores.append(round(matthews_corrcoef(y_test,y_pred),2))\n",
    "  acc_scores.append(round(accuracy_score(y_test,y_pred),2))\n",
    "  f1_scores.append(round(f1_score(y_test,y_pred, average='weighted'),2))\n",
    "  ConfusionMatrixDisplay.from_estimator(dt, X_test, y_test)\n",
    "\n",
    "print(\"MCC\", round(np.mean(mcc_scores),2))\n",
    "print(\"Accuracy\", round(np.mean(acc_scores),2))\n",
    "print(\"F1\", round(np.mean(f1_scores),2))"
   ]
  },
  {
   "cell_type": "markdown",
   "metadata": {},
   "source": [
    "RF"
   ]
  },
  {
   "cell_type": "code",
   "execution_count": null,
   "metadata": {},
   "outputs": [],
   "source": [
    "rf = RandomForestClassifier()\n",
    "mcc_scores = list()\n",
    "acc_scores = list()\n",
    "f1_scores = list()\n",
    "\n",
    "for train_index, test_index in skf.split(X, y):\n",
    "  X_train, X_test = X[train_index], X[test_index]\n",
    "  y_train, y_test = y[train_index], y[test_index]\n",
    "  rf.fit(X_train, y_train)\n",
    "  y_pred = rf.predict(X_test)\n",
    "  mcc_scores.append(round(matthews_corrcoef(y_test,y_pred),2))\n",
    "  acc_scores.append(round(accuracy_score(y_test,y_pred),2))\n",
    "  f1_scores.append(round(f1_score(y_test,y_pred, average='weighted'),2))\n",
    "  ConfusionMatrixDisplay.from_estimator(rf, X_test, y_test)\n",
    "\n",
    "print(\"MCC\", round(np.mean(mcc_scores),2))\n",
    "print(\"Accuracy\", round(np.mean(acc_scores),2))\n",
    "print(\"F1\", round(np.mean(f1_scores),2))"
   ]
  },
  {
   "cell_type": "markdown",
   "metadata": {},
   "source": [
    "GB"
   ]
  },
  {
   "cell_type": "code",
   "execution_count": null,
   "metadata": {},
   "outputs": [],
   "source": [
    "gb = XGBClassifier()\n",
    "mcc_scores = list()\n",
    "acc_scores = list()\n",
    "f1_scores = list()\n",
    "\n",
    "for train_index, test_index in skf.split(X, y):\n",
    "  X_train, X_test = X[train_index], X[test_index]\n",
    "  y_train, y_test = y[train_index], y[test_index]\n",
    "  gb.fit(X_train, y_train)\n",
    "  y_pred = gb.predict(X_test)\n",
    "  mcc_scores.append(round(matthews_corrcoef(y_test,y_pred),2))\n",
    "  acc_scores.append(round(accuracy_score(y_test,y_pred),2))\n",
    "  f1_scores.append(round(f1_score(y_test,y_pred, average='weighted'),2))\n",
    "  ConfusionMatrixDisplay.from_estimator(gb, X_test, y_test)\n",
    "\n",
    "print(\"MCC\", round(np.mean(mcc_scores),2))\n",
    "print(\"Accuracy\", round(np.mean(acc_scores),2))\n",
    "print(\"F1\", round(np.mean(f1_scores),2))"
   ]
  },
  {
   "cell_type": "markdown",
   "metadata": {},
   "source": [
    "MLP"
   ]
  },
  {
   "cell_type": "code",
   "execution_count": null,
   "metadata": {},
   "outputs": [],
   "source": [
    "mlp = MLPClassifier()\n",
    "mcc_scores = list()\n",
    "acc_scores = list()\n",
    "f1_scores = list()\n",
    "\n",
    "for train_index, test_index in skf.split(X, y):\n",
    "  X_train, X_test = X[train_index], X[test_index]\n",
    "  y_train, y_test = y[train_index], y[test_index]\n",
    "  mlp.fit(X_train, y_train)\n",
    "  y_pred = mlp.predict(X_test)\n",
    "  mcc_scores.append(round(matthews_corrcoef(y_test,y_pred),2))\n",
    "  acc_scores.append(round(accuracy_score(y_test,y_pred),2))\n",
    "  f1_scores.append(round(f1_score(y_test,y_pred, average='weighted'),2))\n",
    "  ConfusionMatrixDisplay.from_estimator(mlp, X_test, y_test)\n",
    "\n",
    "print(\"MCC\", round(np.mean(mcc_scores),2))\n",
    "print(\"Accuracy\", round(np.mean(acc_scores),2))\n",
    "print(\"F1\", round(np.mean(f1_scores),2))"
   ]
  },
  {
   "cell_type": "markdown",
   "metadata": {},
   "source": [
    "##### Classifiers trained with timesplit cross validation"
   ]
  },
  {
   "cell_type": "markdown",
   "metadata": {},
   "source": [
    "KNN"
   ]
  },
  {
   "cell_type": "code",
   "execution_count": null,
   "metadata": {},
   "outputs": [],
   "source": [
    "knn = KNeighborsClassifier(n_jobs=-1)\n",
    "mcc_scores = list()\n",
    "acc_scores = list()\n",
    "f1_scores = list()\n",
    "\n",
    "for train_index, test_index in tss.split(X, y):\n",
    "  X_train, X_test = X[train_index], X[test_index]\n",
    "  y_train, y_test = y[train_index], y[test_index]\n",
    "  knn.fit(X_train, y_train)\n",
    "  y_pred = knn.predict(X_test)\n",
    "  mcc_scores.append(round(matthews_corrcoef(y_test,y_pred),2))\n",
    "  acc_scores.append(round(accuracy_score(y_test,y_pred),2))\n",
    "  f1_scores.append(round(f1_score(y_test,y_pred, average='weighted'),2))\n",
    "  ConfusionMatrixDisplay.from_estimator(knn, X_test, y_test)\n",
    "\n",
    "print(\"MCC\", round(np.mean(mcc_scores),2))\n",
    "print(\"Accuracy\", round(np.mean(acc_scores),2))\n",
    "print(\"F1\", round(np.mean(f1_scores),2))"
   ]
  },
  {
   "cell_type": "markdown",
   "metadata": {},
   "source": [
    "NB"
   ]
  },
  {
   "cell_type": "code",
   "execution_count": null,
   "metadata": {},
   "outputs": [],
   "source": [
    "nb = ComplementNB()\n",
    "mcc_scores = list()\n",
    "acc_scores = list()\n",
    "f1_scores = list()\n",
    "\n",
    "for train_index, test_index in tss.split(X, y):\n",
    "  X_train, X_test = X[train_index], X[test_index]\n",
    "  y_train, y_test = y[train_index], y[test_index]\n",
    "  nb.fit(X_train, y_train)\n",
    "  y_pred = nb.predict(X_test)\n",
    "  mcc_scores.append(round(matthews_corrcoef(y_test,y_pred),2))\n",
    "  acc_scores.append(round(accuracy_score(y_test,y_pred),2))\n",
    "  f1_scores.append(round(f1_score(y_test,y_pred, average='weighted'),2))\n",
    "  ConfusionMatrixDisplay.from_estimator(nb, X_test, y_test)\n",
    "\n",
    "print(\"MCC\", round(np.mean(mcc_scores),2))\n",
    "print(\"Accuracy\", round(np.mean(acc_scores),2))\n",
    "print(\"F1\", round(np.mean(f1_scores),2))"
   ]
  },
  {
   "cell_type": "markdown",
   "metadata": {},
   "source": [
    "SVC"
   ]
  },
  {
   "cell_type": "code",
   "execution_count": null,
   "metadata": {},
   "outputs": [],
   "source": [
    "svc = SVC(class_weight='balanced')\n",
    "mcc_scores = list()\n",
    "acc_scores = list()\n",
    "f1_scores = list()\n",
    "\n",
    "for train_index, test_index in tss.split(X, y):\n",
    "  X_train, X_test = X[train_index], X[test_index]\n",
    "  y_train, y_test = y[train_index], y[test_index]\n",
    "  svc.fit(X_train, y_train)\n",
    "  y_pred = svc.predict(X_test)\n",
    "  mcc_scores.append(round(matthews_corrcoef(y_test,y_pred),2))\n",
    "  acc_scores.append(round(accuracy_score(y_test,y_pred),2))\n",
    "  f1_scores.append(round(f1_score(y_test,y_pred, average='weighted'),2))\n",
    "  ConfusionMatrixDisplay.from_estimator(svc, X_test, y_test)\n",
    "\n",
    "print(\"MCC\", round(np.mean(mcc_scores),2))\n",
    "print(\"Accuracy\", round(np.mean(acc_scores),2))\n",
    "print(\"F1\", round(np.mean(f1_scores),2))"
   ]
  },
  {
   "cell_type": "markdown",
   "metadata": {},
   "source": [
    "DT"
   ]
  },
  {
   "cell_type": "code",
   "execution_count": null,
   "metadata": {},
   "outputs": [],
   "source": [
    "dt = DecisionTreeClassifier()\n",
    "mcc_scores = list()\n",
    "acc_scores = list()\n",
    "f1_scores = list()\n",
    "\n",
    "for train_index, test_index in tss.split(X, y):\n",
    "  X_train, X_test = X[train_index], X[test_index]\n",
    "  y_train, y_test = y[train_index], y[test_index]\n",
    "  dt.fit(X_train, y_train)\n",
    "  y_pred = dt.predict(X_test)\n",
    "  mcc_scores.append(round(matthews_corrcoef(y_test,y_pred),2))\n",
    "  acc_scores.append(round(accuracy_score(y_test,y_pred),2))\n",
    "  f1_scores.append(round(f1_score(y_test,y_pred, average='weighted'),2))\n",
    "  ConfusionMatrixDisplay.from_estimator(dt, X_test, y_test)\n",
    "\n",
    "print(\"MCC\", round(np.mean(mcc_scores),2))\n",
    "print(\"Accuracy\", round(np.mean(acc_scores),2))\n",
    "print(\"F1\", round(np.mean(f1_scores),2))"
   ]
  },
  {
   "cell_type": "markdown",
   "metadata": {},
   "source": [
    "RF"
   ]
  },
  {
   "cell_type": "code",
   "execution_count": null,
   "metadata": {},
   "outputs": [],
   "source": [
    "rf = RandomForestClassifier()\n",
    "mcc_scores = list()\n",
    "acc_scores = list()\n",
    "f1_scores = list()\n",
    "\n",
    "for train_index, test_index in tss.split(X, y):\n",
    "  X_train, X_test = X[train_index], X[test_index]\n",
    "  y_train, y_test = y[train_index], y[test_index]\n",
    "  rf.fit(X_train, y_train)\n",
    "  y_pred = rf.predict(X_test)\n",
    "  mcc_scores.append(round(matthews_corrcoef(y_test,y_pred),2))\n",
    "  acc_scores.append(round(accuracy_score(y_test,y_pred),2))\n",
    "  f1_scores.append(round(f1_score(y_test,y_pred, average='weighted'),2))\n",
    "  ConfusionMatrixDisplay.from_estimator(rf, X_test, y_test)\n",
    "\n",
    "print(\"MCC\", round(np.mean(mcc_scores),2))\n",
    "print(\"Accuracy\", round(np.mean(acc_scores),2))\n",
    "print(\"F1\", round(np.mean(f1_scores),2))"
   ]
  },
  {
   "cell_type": "markdown",
   "metadata": {},
   "source": [
    "GB"
   ]
  },
  {
   "cell_type": "code",
   "execution_count": null,
   "metadata": {},
   "outputs": [],
   "source": [
    "gb = XGBClassifier()\n",
    "mcc_scores = list()\n",
    "acc_scores = list()\n",
    "f1_scores = list()\n",
    "\n",
    "for train_index, test_index in tss.split(X, y):\n",
    "  X_train, X_test = X[train_index], X[test_index]\n",
    "  y_train, y_test = y[train_index], y[test_index]\n",
    "  gb.fit(X_train, y_train)\n",
    "  y_pred = gb.predict(X_test)\n",
    "  mcc_scores.append(round(matthews_corrcoef(y_test,y_pred),2))\n",
    "  acc_scores.append(round(accuracy_score(y_test,y_pred),2))\n",
    "  f1_scores.append(round(f1_score(y_test,y_pred, average='weighted'),2))\n",
    "  ConfusionMatrixDisplay.from_estimator(gb, X_test, y_test)\n",
    "\n",
    "print(\"MCC\", round(np.mean(mcc_scores),2))\n",
    "print(\"Accuracy\", round(np.mean(acc_scores),2))\n",
    "print(\"F1\", round(np.mean(f1_scores),2))"
   ]
  },
  {
   "cell_type": "markdown",
   "metadata": {},
   "source": [
    "MLP"
   ]
  },
  {
   "cell_type": "code",
   "execution_count": null,
   "metadata": {},
   "outputs": [],
   "source": [
    "mlp = MLPClassifier()\n",
    "mcc_scores = list()\n",
    "acc_scores = list()\n",
    "f1_scores = list()\n",
    "\n",
    "for train_index, test_index in tss.split(X, y):\n",
    "  X_train, X_test = X[train_index], X[test_index]\n",
    "  y_train, y_test = y[train_index], y[test_index]\n",
    "  mlp.fit(X_train, y_train)\n",
    "  y_pred = mlp.predict(X_test)\n",
    "  mcc_scores.append(round(matthews_corrcoef(y_test,y_pred),2))\n",
    "  acc_scores.append(round(accuracy_score(y_test,y_pred),2))\n",
    "  f1_scores.append(round(f1_score(y_test,y_pred, average='weighted'),2))\n",
    "  ConfusionMatrixDisplay.from_estimator(mlp, X_test, y_test)\n",
    "\n",
    "print(\"MCC\", round(np.mean(mcc_scores),2))\n",
    "print(\"Accuracy\", round(np.mean(acc_scores),2))\n",
    "print(\"F1\", round(np.mean(f1_scores),2))"
   ]
  },
  {
   "cell_type": "markdown",
   "metadata": {},
   "source": [
    "#### Baseline + Sentiments + NER + Petitions on same day + Debate count + Google trends"
   ]
  },
  {
   "cell_type": "markdown",
   "metadata": {},
   "source": [
    "Create Baseline + Sentiments + NER + Petitions on same day + Debate count Dataset"
   ]
  },
  {
   "cell_type": "code",
   "execution_count": null,
   "metadata": {},
   "outputs": [],
   "source": [
    "data = topics.join(sentiments).join(ner).join(same_day).join(debate_count).join(trends)\n",
    "\n",
    "dataset = data.join(Dataset().prepare(columns=[\"created_at\"]))\n",
    "dataset.sort_values(\"created_at\", inplace=True)\n",
    "dataset = dataset.reset_index()\n",
    "\n",
    "X = np.array(dataset.iloc[:,1:-3].values.tolist())\n",
    "y = np.array(dataset['class'].values.tolist())"
   ]
  },
  {
   "cell_type": "markdown",
   "metadata": {},
   "source": [
    "##### Classifiers trained with stratified cross validation"
   ]
  },
  {
   "cell_type": "markdown",
   "metadata": {},
   "source": [
    "KNN"
   ]
  },
  {
   "cell_type": "code",
   "execution_count": null,
   "metadata": {},
   "outputs": [],
   "source": [
    "knn = KNeighborsClassifier(n_jobs=-1)\n",
    "mcc_scores = list()\n",
    "acc_scores = list()\n",
    "f1_scores = list()\n",
    "\n",
    "for train_index, test_index in skf.split(X, y):\n",
    "  X_train, X_test = X[train_index], X[test_index]\n",
    "  y_train, y_test = y[train_index], y[test_index]\n",
    "  knn.fit(X_train, y_train)\n",
    "  y_pred = knn.predict(X_test)\n",
    "  mcc_scores.append(round(matthews_corrcoef(y_test,y_pred),2))\n",
    "  acc_scores.append(round(accuracy_score(y_test,y_pred),2))\n",
    "  f1_scores.append(round(f1_score(y_test,y_pred, average='weighted'),2))\n",
    "  ConfusionMatrixDisplay.from_estimator(knn, X_test, y_test)\n",
    "\n",
    "print(\"MCC\", round(np.mean(mcc_scores),2))\n",
    "print(\"Accuracy\", round(np.mean(acc_scores),2))\n",
    "print(\"F1\", round(np.mean(f1_scores),2))"
   ]
  },
  {
   "cell_type": "markdown",
   "metadata": {},
   "source": [
    "NB"
   ]
  },
  {
   "cell_type": "code",
   "execution_count": null,
   "metadata": {},
   "outputs": [],
   "source": [
    "nb = ComplementNB()\n",
    "mcc_scores = list()\n",
    "acc_scores = list()\n",
    "f1_scores = list()\n",
    "\n",
    "for train_index, test_index in skf.split(X, y):\n",
    "  X_train, X_test = X[train_index], X[test_index]\n",
    "  y_train, y_test = y[train_index], y[test_index]\n",
    "  nb.fit(X_train, y_train)\n",
    "  y_pred = nb.predict(X_test)\n",
    "  mcc_scores.append(round(matthews_corrcoef(y_test,y_pred),2))\n",
    "  acc_scores.append(round(accuracy_score(y_test,y_pred),2))\n",
    "  f1_scores.append(round(f1_score(y_test,y_pred, average='weighted'),2))\n",
    "  ConfusionMatrixDisplay.from_estimator(nb, X_test, y_test)\n",
    "\n",
    "print(\"MCC\", round(np.mean(mcc_scores),2))\n",
    "print(\"Accuracy\", round(np.mean(acc_scores),2))\n",
    "print(\"F1\", round(np.mean(f1_scores),2))"
   ]
  },
  {
   "cell_type": "markdown",
   "metadata": {},
   "source": [
    "SVC"
   ]
  },
  {
   "cell_type": "code",
   "execution_count": null,
   "metadata": {},
   "outputs": [],
   "source": [
    "svc = SVC(class_weight='balanced')\n",
    "mcc_scores = list()\n",
    "acc_scores = list()\n",
    "f1_scores = list()\n",
    "\n",
    "for train_index, test_index in skf.split(X, y):\n",
    "  X_train, X_test = X[train_index], X[test_index]\n",
    "  y_train, y_test = y[train_index], y[test_index]\n",
    "  svc.fit(X_train, y_train)\n",
    "  y_pred = svc.predict(X_test)\n",
    "  mcc_scores.append(round(matthews_corrcoef(y_test,y_pred),2))\n",
    "  acc_scores.append(round(accuracy_score(y_test,y_pred),2))\n",
    "  f1_scores.append(round(f1_score(y_test,y_pred, average='weighted'),2))\n",
    "  ConfusionMatrixDisplay.from_estimator(svc, X_test, y_test)\n",
    "\n",
    "print(\"MCC\", round(np.mean(mcc_scores),2))\n",
    "print(\"Accuracy\", round(np.mean(acc_scores),2))\n",
    "print(\"F1\", round(np.mean(f1_scores),2))"
   ]
  },
  {
   "cell_type": "markdown",
   "metadata": {},
   "source": [
    "DT"
   ]
  },
  {
   "cell_type": "code",
   "execution_count": null,
   "metadata": {},
   "outputs": [],
   "source": [
    "dt = DecisionTreeClassifier()\n",
    "mcc_scores = list()\n",
    "acc_scores = list()\n",
    "f1_scores = list()\n",
    "\n",
    "for train_index, test_index in skf.split(X, y):\n",
    "  X_train, X_test = X[train_index], X[test_index]\n",
    "  y_train, y_test = y[train_index], y[test_index]\n",
    "  dt.fit(X_train, y_train)\n",
    "  y_pred = dt.predict(X_test)\n",
    "  mcc_scores.append(round(matthews_corrcoef(y_test,y_pred),2))\n",
    "  acc_scores.append(round(accuracy_score(y_test,y_pred),2))\n",
    "  f1_scores.append(round(f1_score(y_test,y_pred, average='weighted'),2))\n",
    "  ConfusionMatrixDisplay.from_estimator(dt, X_test, y_test)\n",
    "\n",
    "print(\"MCC\", round(np.mean(mcc_scores),2))\n",
    "print(\"Accuracy\", round(np.mean(acc_scores),2))\n",
    "print(\"F1\", round(np.mean(f1_scores),2))"
   ]
  },
  {
   "cell_type": "markdown",
   "metadata": {},
   "source": [
    "RF"
   ]
  },
  {
   "cell_type": "code",
   "execution_count": null,
   "metadata": {},
   "outputs": [],
   "source": [
    "rf = RandomForestClassifier()\n",
    "mcc_scores = list()\n",
    "acc_scores = list()\n",
    "f1_scores = list()\n",
    "\n",
    "for train_index, test_index in skf.split(X, y):\n",
    "  X_train, X_test = X[train_index], X[test_index]\n",
    "  y_train, y_test = y[train_index], y[test_index]\n",
    "  rf.fit(X_train, y_train)\n",
    "  y_pred = rf.predict(X_test)\n",
    "  mcc_scores.append(round(matthews_corrcoef(y_test,y_pred),2))\n",
    "  acc_scores.append(round(accuracy_score(y_test,y_pred),2))\n",
    "  f1_scores.append(round(f1_score(y_test,y_pred, average='weighted'),2))\n",
    "  ConfusionMatrixDisplay.from_estimator(rf, X_test, y_test)\n",
    "\n",
    "print(\"MCC\", round(np.mean(mcc_scores),2))\n",
    "print(\"Accuracy\", round(np.mean(acc_scores),2))\n",
    "print(\"F1\", round(np.mean(f1_scores),2))"
   ]
  },
  {
   "cell_type": "markdown",
   "metadata": {},
   "source": [
    "GB"
   ]
  },
  {
   "cell_type": "code",
   "execution_count": null,
   "metadata": {},
   "outputs": [],
   "source": [
    "gb = XGBClassifier()\n",
    "mcc_scores = list()\n",
    "acc_scores = list()\n",
    "f1_scores = list()\n",
    "\n",
    "for train_index, test_index in skf.split(X, y):\n",
    "  X_train, X_test = X[train_index], X[test_index]\n",
    "  y_train, y_test = y[train_index], y[test_index]\n",
    "  gb.fit(X_train, y_train)\n",
    "  y_pred = gb.predict(X_test)\n",
    "  mcc_scores.append(round(matthews_corrcoef(y_test,y_pred),2))\n",
    "  acc_scores.append(round(accuracy_score(y_test,y_pred),2))\n",
    "  f1_scores.append(round(f1_score(y_test,y_pred, average='weighted'),2))\n",
    "  ConfusionMatrixDisplay.from_estimator(gb, X_test, y_test)\n",
    "\n",
    "print(\"MCC\", round(np.mean(mcc_scores),2))\n",
    "print(\"Accuracy\", round(np.mean(acc_scores),2))\n",
    "print(\"F1\", round(np.mean(f1_scores),2))"
   ]
  },
  {
   "cell_type": "markdown",
   "metadata": {},
   "source": [
    "MLP"
   ]
  },
  {
   "cell_type": "code",
   "execution_count": null,
   "metadata": {},
   "outputs": [],
   "source": [
    "mlp = MLPClassifier()\n",
    "mcc_scores = list()\n",
    "acc_scores = list()\n",
    "f1_scores = list()\n",
    "\n",
    "for train_index, test_index in skf.split(X, y):\n",
    "  X_train, X_test = X[train_index], X[test_index]\n",
    "  y_train, y_test = y[train_index], y[test_index]\n",
    "  mlp.fit(X_train, y_train)\n",
    "  y_pred = mlp.predict(X_test)\n",
    "  mcc_scores.append(round(matthews_corrcoef(y_test,y_pred),2))\n",
    "  acc_scores.append(round(accuracy_score(y_test,y_pred),2))\n",
    "  f1_scores.append(round(f1_score(y_test,y_pred, average='weighted'),2))\n",
    "  ConfusionMatrixDisplay.from_estimator(mlp, X_test, y_test)\n",
    "\n",
    "print(\"MCC\", round(np.mean(mcc_scores),2))\n",
    "print(\"Accuracy\", round(np.mean(acc_scores),2))\n",
    "print(\"F1\", round(np.mean(f1_scores),2))"
   ]
  },
  {
   "cell_type": "markdown",
   "metadata": {},
   "source": [
    "##### Classifiers trained with timesplit cross validation"
   ]
  },
  {
   "cell_type": "markdown",
   "metadata": {},
   "source": [
    "KNN"
   ]
  },
  {
   "cell_type": "code",
   "execution_count": null,
   "metadata": {},
   "outputs": [],
   "source": [
    "knn = KNeighborsClassifier(n_jobs=-1)\n",
    "mcc_scores = list()\n",
    "acc_scores = list()\n",
    "f1_scores = list()\n",
    "\n",
    "for train_index, test_index in tss.split(X, y):\n",
    "  X_train, X_test = X[train_index], X[test_index]\n",
    "  y_train, y_test = y[train_index], y[test_index]\n",
    "  knn.fit(X_train, y_train)\n",
    "  y_pred = knn.predict(X_test)\n",
    "  mcc_scores.append(round(matthews_corrcoef(y_test,y_pred),2))\n",
    "  acc_scores.append(round(accuracy_score(y_test,y_pred),2))\n",
    "  f1_scores.append(round(f1_score(y_test,y_pred, average='weighted'),2))\n",
    "  ConfusionMatrixDisplay.from_estimator(knn, X_test, y_test)\n",
    "\n",
    "print(\"MCC\", round(np.mean(mcc_scores),2))\n",
    "print(\"Accuracy\", round(np.mean(acc_scores),2))\n",
    "print(\"F1\", round(np.mean(f1_scores),2))"
   ]
  },
  {
   "cell_type": "markdown",
   "metadata": {},
   "source": [
    "NB"
   ]
  },
  {
   "cell_type": "code",
   "execution_count": null,
   "metadata": {},
   "outputs": [],
   "source": [
    "nb = ComplementNB()\n",
    "mcc_scores = list()\n",
    "acc_scores = list()\n",
    "f1_scores = list()\n",
    "\n",
    "for train_index, test_index in tss.split(X, y):\n",
    "  X_train, X_test = X[train_index], X[test_index]\n",
    "  y_train, y_test = y[train_index], y[test_index]\n",
    "  nb.fit(X_train, y_train)\n",
    "  y_pred = nb.predict(X_test)\n",
    "  mcc_scores.append(round(matthews_corrcoef(y_test,y_pred),2))\n",
    "  acc_scores.append(round(accuracy_score(y_test,y_pred),2))\n",
    "  f1_scores.append(round(f1_score(y_test,y_pred, average='weighted'),2))\n",
    "  ConfusionMatrixDisplay.from_estimator(nb, X_test, y_test)\n",
    "\n",
    "print(\"MCC\", round(np.mean(mcc_scores),2))\n",
    "print(\"Accuracy\", round(np.mean(acc_scores),2))\n",
    "print(\"F1\", round(np.mean(f1_scores),2))"
   ]
  },
  {
   "cell_type": "markdown",
   "metadata": {},
   "source": [
    "SVC"
   ]
  },
  {
   "cell_type": "code",
   "execution_count": null,
   "metadata": {},
   "outputs": [],
   "source": [
    "svc = SVC(class_weight='balanced')\n",
    "mcc_scores = list()\n",
    "acc_scores = list()\n",
    "f1_scores = list()\n",
    "\n",
    "for train_index, test_index in tss.split(X, y):\n",
    "  X_train, X_test = X[train_index], X[test_index]\n",
    "  y_train, y_test = y[train_index], y[test_index]\n",
    "  svc.fit(X_train, y_train)\n",
    "  y_pred = svc.predict(X_test)\n",
    "  mcc_scores.append(round(matthews_corrcoef(y_test,y_pred),2))\n",
    "  acc_scores.append(round(accuracy_score(y_test,y_pred),2))\n",
    "  f1_scores.append(round(f1_score(y_test,y_pred, average='weighted'),2))\n",
    "  ConfusionMatrixDisplay.from_estimator(svc, X_test, y_test)\n",
    "\n",
    "print(\"MCC\", round(np.mean(mcc_scores),2))\n",
    "print(\"Accuracy\", round(np.mean(acc_scores),2))\n",
    "print(\"F1\", round(np.mean(f1_scores),2))"
   ]
  },
  {
   "cell_type": "markdown",
   "metadata": {},
   "source": [
    "DT"
   ]
  },
  {
   "cell_type": "code",
   "execution_count": null,
   "metadata": {},
   "outputs": [],
   "source": [
    "dt = DecisionTreeClassifier()\n",
    "mcc_scores = list()\n",
    "acc_scores = list()\n",
    "f1_scores = list()\n",
    "\n",
    "for train_index, test_index in tss.split(X, y):\n",
    "  X_train, X_test = X[train_index], X[test_index]\n",
    "  y_train, y_test = y[train_index], y[test_index]\n",
    "  dt.fit(X_train, y_train)\n",
    "  y_pred = dt.predict(X_test)\n",
    "  mcc_scores.append(round(matthews_corrcoef(y_test,y_pred),2))\n",
    "  acc_scores.append(round(accuracy_score(y_test,y_pred),2))\n",
    "  f1_scores.append(round(f1_score(y_test,y_pred, average='weighted'),2))\n",
    "  ConfusionMatrixDisplay.from_estimator(dt, X_test, y_test)\n",
    "\n",
    "print(\"MCC\", round(np.mean(mcc_scores),2))\n",
    "print(\"Accuracy\", round(np.mean(acc_scores),2))\n",
    "print(\"F1\", round(np.mean(f1_scores),2))"
   ]
  },
  {
   "cell_type": "markdown",
   "metadata": {},
   "source": [
    "RF"
   ]
  },
  {
   "cell_type": "code",
   "execution_count": null,
   "metadata": {},
   "outputs": [],
   "source": [
    "rf = RandomForestClassifier()\n",
    "mcc_scores = list()\n",
    "acc_scores = list()\n",
    "f1_scores = list()\n",
    "\n",
    "for train_index, test_index in tss.split(X, y):\n",
    "  X_train, X_test = X[train_index], X[test_index]\n",
    "  y_train, y_test = y[train_index], y[test_index]\n",
    "  rf.fit(X_train, y_train)\n",
    "  y_pred = rf.predict(X_test)\n",
    "  mcc_scores.append(round(matthews_corrcoef(y_test,y_pred),2))\n",
    "  acc_scores.append(round(accuracy_score(y_test,y_pred),2))\n",
    "  f1_scores.append(round(f1_score(y_test,y_pred, average='weighted'),2))\n",
    "  ConfusionMatrixDisplay.from_estimator(rf, X_test, y_test)\n",
    "\n",
    "print(\"MCC\", round(np.mean(mcc_scores),2))\n",
    "print(\"Accuracy\", round(np.mean(acc_scores),2))\n",
    "print(\"F1\", round(np.mean(f1_scores),2))"
   ]
  },
  {
   "cell_type": "markdown",
   "metadata": {},
   "source": [
    "GB"
   ]
  },
  {
   "cell_type": "code",
   "execution_count": null,
   "metadata": {},
   "outputs": [],
   "source": [
    "gb = XGBClassifier()\n",
    "mcc_scores = list()\n",
    "acc_scores = list()\n",
    "f1_scores = list()\n",
    "\n",
    "for train_index, test_index in tss.split(X, y):\n",
    "  X_train, X_test = X[train_index], X[test_index]\n",
    "  y_train, y_test = y[train_index], y[test_index]\n",
    "  gb.fit(X_train, y_train)\n",
    "  y_pred = gb.predict(X_test)\n",
    "  mcc_scores.append(round(matthews_corrcoef(y_test,y_pred),2))\n",
    "  acc_scores.append(round(accuracy_score(y_test,y_pred),2))\n",
    "  f1_scores.append(round(f1_score(y_test,y_pred, average='weighted'),2))\n",
    "  ConfusionMatrixDisplay.from_estimator(gb, X_test, y_test)\n",
    "\n",
    "print(\"MCC\", round(np.mean(mcc_scores),2))\n",
    "print(\"Accuracy\", round(np.mean(acc_scores),2))\n",
    "print(\"F1\", round(np.mean(f1_scores),2))"
   ]
  },
  {
   "cell_type": "markdown",
   "metadata": {},
   "source": [
    "MLP"
   ]
  },
  {
   "cell_type": "code",
   "execution_count": null,
   "metadata": {},
   "outputs": [],
   "source": [
    "mlp = MLPClassifier()\n",
    "mcc_scores = list()\n",
    "acc_scores = list()\n",
    "f1_scores = list()\n",
    "\n",
    "for train_index, test_index in tss.split(X, y):\n",
    "  X_train, X_test = X[train_index], X[test_index]\n",
    "  y_train, y_test = y[train_index], y[test_index]\n",
    "  mlp.fit(X_train, y_train)\n",
    "  y_pred = mlp.predict(X_test)\n",
    "  mcc_scores.append(round(matthews_corrcoef(y_test,y_pred),2))\n",
    "  acc_scores.append(round(accuracy_score(y_test,y_pred),2))\n",
    "  f1_scores.append(round(f1_score(y_test,y_pred, average='weighted'),2))\n",
    "  ConfusionMatrixDisplay.from_estimator(mlp, X_test, y_test)\n",
    "\n",
    "print(\"MCC\", round(np.mean(mcc_scores),2))\n",
    "print(\"Accuracy\", round(np.mean(acc_scores),2))\n",
    "print(\"F1\", round(np.mean(f1_scores),2))"
   ]
  },
  {
   "cell_type": "markdown",
   "metadata": {},
   "source": [
    "#### Baseline + Sentiments + NER + Petitions on same day + Debate count + Google trends + Twitter features"
   ]
  },
  {
   "cell_type": "markdown",
   "metadata": {},
   "source": [
    "Create Baseline + Sentiments + NER + Petitions on same day + Debate count + Twitter features Dataset"
   ]
  },
  {
   "cell_type": "code",
   "execution_count": null,
   "metadata": {},
   "outputs": [],
   "source": [
    "data = topics.join(sentiments).join(ner).join(same_day).join(debate_count).join(trends).join(twitter)\n",
    "\n",
    "dataset = data.join(Dataset().prepare(columns=[\"created_at\"]))\n",
    "dataset.sort_values(\"created_at\", inplace=True)\n",
    "dataset = dataset.reset_index()\n",
    "\n",
    "X = np.array(dataset.iloc[:,1:-3].values.tolist())\n",
    "y = np.array(dataset['class'].values.tolist())"
   ]
  },
  {
   "cell_type": "markdown",
   "metadata": {},
   "source": [
    "##### Classifiers trained with stratified cross validation"
   ]
  },
  {
   "cell_type": "markdown",
   "metadata": {},
   "source": [
    "KNN"
   ]
  },
  {
   "cell_type": "code",
   "execution_count": null,
   "metadata": {},
   "outputs": [],
   "source": [
    "knn = KNeighborsClassifier(n_jobs=-1)\n",
    "mcc_scores = list()\n",
    "acc_scores = list()\n",
    "f1_scores = list()\n",
    "\n",
    "for train_index, test_index in skf.split(X, y):\n",
    "  X_train, X_test = X[train_index], X[test_index]\n",
    "  y_train, y_test = y[train_index], y[test_index]\n",
    "  knn.fit(X_train, y_train)\n",
    "  y_pred = knn.predict(X_test)\n",
    "  mcc_scores.append(round(matthews_corrcoef(y_test,y_pred),2))\n",
    "  acc_scores.append(round(accuracy_score(y_test,y_pred),2))\n",
    "  f1_scores.append(round(f1_score(y_test,y_pred, average='weighted'),2))\n",
    "  ConfusionMatrixDisplay.from_estimator(knn, X_test, y_test)\n",
    "\n",
    "print(\"MCC\", round(np.mean(mcc_scores),2))\n",
    "print(\"Accuracy\", round(np.mean(acc_scores),2))\n",
    "print(\"F1\", round(np.mean(f1_scores),2))"
   ]
  },
  {
   "cell_type": "markdown",
   "metadata": {},
   "source": [
    "NB"
   ]
  },
  {
   "cell_type": "code",
   "execution_count": null,
   "metadata": {},
   "outputs": [],
   "source": [
    "nb = ComplementNB()\n",
    "mcc_scores = list()\n",
    "acc_scores = list()\n",
    "f1_scores = list()\n",
    "\n",
    "for train_index, test_index in skf.split(X, y):\n",
    "  X_train, X_test = X[train_index], X[test_index]\n",
    "  y_train, y_test = y[train_index], y[test_index]\n",
    "  nb.fit(X_train, y_train)\n",
    "  y_pred = nb.predict(X_test)\n",
    "  mcc_scores.append(round(matthews_corrcoef(y_test,y_pred),2))\n",
    "  acc_scores.append(round(accuracy_score(y_test,y_pred),2))\n",
    "  f1_scores.append(round(f1_score(y_test,y_pred, average='weighted'),2))\n",
    "  ConfusionMatrixDisplay.from_estimator(nb, X_test, y_test)\n",
    "\n",
    "print(\"MCC\", round(np.mean(mcc_scores),2))\n",
    "print(\"Accuracy\", round(np.mean(acc_scores),2))\n",
    "print(\"F1\", round(np.mean(f1_scores),2))"
   ]
  },
  {
   "cell_type": "markdown",
   "metadata": {},
   "source": [
    "SVC"
   ]
  },
  {
   "cell_type": "code",
   "execution_count": null,
   "metadata": {},
   "outputs": [],
   "source": [
    "svc = SVC(class_weight='balanced')\n",
    "mcc_scores = list()\n",
    "acc_scores = list()\n",
    "f1_scores = list()\n",
    "\n",
    "for train_index, test_index in skf.split(X, y):\n",
    "  X_train, X_test = X[train_index], X[test_index]\n",
    "  y_train, y_test = y[train_index], y[test_index]\n",
    "  svc.fit(X_train, y_train)\n",
    "  y_pred = svc.predict(X_test)\n",
    "  mcc_scores.append(round(matthews_corrcoef(y_test,y_pred),2))\n",
    "  acc_scores.append(round(accuracy_score(y_test,y_pred),2))\n",
    "  f1_scores.append(round(f1_score(y_test,y_pred, average='weighted'),2))\n",
    "  ConfusionMatrixDisplay.from_estimator(svc, X_test, y_test)\n",
    "\n",
    "print(\"MCC\", round(np.mean(mcc_scores),2))\n",
    "print(\"Accuracy\", round(np.mean(acc_scores),2))\n",
    "print(\"F1\", round(np.mean(f1_scores),2))"
   ]
  },
  {
   "cell_type": "markdown",
   "metadata": {},
   "source": [
    "DT"
   ]
  },
  {
   "cell_type": "code",
   "execution_count": null,
   "metadata": {},
   "outputs": [],
   "source": [
    "dt = DecisionTreeClassifier()\n",
    "mcc_scores = list()\n",
    "acc_scores = list()\n",
    "f1_scores = list()\n",
    "\n",
    "for train_index, test_index in skf.split(X, y):\n",
    "  X_train, X_test = X[train_index], X[test_index]\n",
    "  y_train, y_test = y[train_index], y[test_index]\n",
    "  dt.fit(X_train, y_train)\n",
    "  y_pred = dt.predict(X_test)\n",
    "  mcc_scores.append(round(matthews_corrcoef(y_test,y_pred),2))\n",
    "  acc_scores.append(round(accuracy_score(y_test,y_pred),2))\n",
    "  f1_scores.append(round(f1_score(y_test,y_pred, average='weighted'),2))\n",
    "  ConfusionMatrixDisplay.from_estimator(dt, X_test, y_test)\n",
    "\n",
    "print(\"MCC\", round(np.mean(mcc_scores),2))\n",
    "print(\"Accuracy\", round(np.mean(acc_scores),2))\n",
    "print(\"F1\", round(np.mean(f1_scores),2))"
   ]
  },
  {
   "cell_type": "markdown",
   "metadata": {},
   "source": [
    "RF"
   ]
  },
  {
   "cell_type": "code",
   "execution_count": null,
   "metadata": {},
   "outputs": [],
   "source": [
    "rf = RandomForestClassifier()\n",
    "mcc_scores = list()\n",
    "acc_scores = list()\n",
    "f1_scores = list()\n",
    "\n",
    "for train_index, test_index in skf.split(X, y):\n",
    "  X_train, X_test = X[train_index], X[test_index]\n",
    "  y_train, y_test = y[train_index], y[test_index]\n",
    "  rf.fit(X_train, y_train)\n",
    "  y_pred = rf.predict(X_test)\n",
    "  mcc_scores.append(round(matthews_corrcoef(y_test,y_pred),2))\n",
    "  acc_scores.append(round(accuracy_score(y_test,y_pred),2))\n",
    "  f1_scores.append(round(f1_score(y_test,y_pred, average='weighted'),2))\n",
    "  ConfusionMatrixDisplay.from_estimator(rf, X_test, y_test)\n",
    "\n",
    "print(\"MCC\", round(np.mean(mcc_scores),2))\n",
    "print(\"Accuracy\", round(np.mean(acc_scores),2))\n",
    "print(\"F1\", round(np.mean(f1_scores),2))"
   ]
  },
  {
   "cell_type": "markdown",
   "metadata": {},
   "source": [
    "GB"
   ]
  },
  {
   "cell_type": "code",
   "execution_count": null,
   "metadata": {},
   "outputs": [],
   "source": [
    "gb = XGBClassifier()\n",
    "mcc_scores = list()\n",
    "acc_scores = list()\n",
    "f1_scores = list()\n",
    "\n",
    "for train_index, test_index in skf.split(X, y):\n",
    "  X_train, X_test = X[train_index], X[test_index]\n",
    "  y_train, y_test = y[train_index], y[test_index]\n",
    "  gb.fit(X_train, y_train)\n",
    "  y_pred = gb.predict(X_test)\n",
    "  mcc_scores.append(round(matthews_corrcoef(y_test,y_pred),2))\n",
    "  acc_scores.append(round(accuracy_score(y_test,y_pred),2))\n",
    "  f1_scores.append(round(f1_score(y_test,y_pred, average='weighted'),2))\n",
    "  ConfusionMatrixDisplay.from_estimator(gb, X_test, y_test)\n",
    "\n",
    "print(\"MCC\", round(np.mean(mcc_scores),2))\n",
    "print(\"Accuracy\", round(np.mean(acc_scores),2))\n",
    "print(\"F1\", round(np.mean(f1_scores),2))"
   ]
  },
  {
   "cell_type": "markdown",
   "metadata": {},
   "source": [
    "MLP"
   ]
  },
  {
   "cell_type": "code",
   "execution_count": null,
   "metadata": {},
   "outputs": [],
   "source": [
    "mlp = MLPClassifier()\n",
    "mcc_scores = list()\n",
    "acc_scores = list()\n",
    "f1_scores = list()\n",
    "\n",
    "for train_index, test_index in skf.split(X, y):\n",
    "  X_train, X_test = X[train_index], X[test_index]\n",
    "  y_train, y_test = y[train_index], y[test_index]\n",
    "  mlp.fit(X_train, y_train)\n",
    "  y_pred = mlp.predict(X_test)\n",
    "  mcc_scores.append(round(matthews_corrcoef(y_test,y_pred),2))\n",
    "  acc_scores.append(round(accuracy_score(y_test,y_pred),2))\n",
    "  f1_scores.append(round(f1_score(y_test,y_pred, average='weighted'),2))\n",
    "  ConfusionMatrixDisplay.from_estimator(mlp, X_test, y_test)\n",
    "\n",
    "print(\"MCC\", round(np.mean(mcc_scores),2))\n",
    "print(\"Accuracy\", round(np.mean(acc_scores),2))\n",
    "print(\"F1\", round(np.mean(f1_scores),2))"
   ]
  },
  {
   "cell_type": "markdown",
   "metadata": {},
   "source": [
    "##### Classifiers trained with timesplit cross validation"
   ]
  },
  {
   "cell_type": "markdown",
   "metadata": {},
   "source": [
    "KNN"
   ]
  },
  {
   "cell_type": "code",
   "execution_count": null,
   "metadata": {},
   "outputs": [],
   "source": [
    "knn = KNeighborsClassifier(n_jobs=-1)\n",
    "mcc_scores = list()\n",
    "acc_scores = list()\n",
    "f1_scores = list()\n",
    "\n",
    "for train_index, test_index in tss.split(X, y):\n",
    "  X_train, X_test = X[train_index], X[test_index]\n",
    "  y_train, y_test = y[train_index], y[test_index]\n",
    "  knn.fit(X_train, y_train)\n",
    "  y_pred = knn.predict(X_test)\n",
    "  mcc_scores.append(round(matthews_corrcoef(y_test,y_pred),2))\n",
    "  acc_scores.append(round(accuracy_score(y_test,y_pred),2))\n",
    "  f1_scores.append(round(f1_score(y_test,y_pred, average='weighted'),2))\n",
    "  ConfusionMatrixDisplay.from_estimator(knn, X_test, y_test)\n",
    "\n",
    "print(\"MCC\", round(np.mean(mcc_scores),2))\n",
    "print(\"Accuracy\", round(np.mean(acc_scores),2))\n",
    "print(\"F1\", round(np.mean(f1_scores),2))"
   ]
  },
  {
   "cell_type": "markdown",
   "metadata": {},
   "source": [
    "NB"
   ]
  },
  {
   "cell_type": "code",
   "execution_count": null,
   "metadata": {},
   "outputs": [],
   "source": [
    "nb = ComplementNB()\n",
    "mcc_scores = list()\n",
    "acc_scores = list()\n",
    "f1_scores = list()\n",
    "\n",
    "for train_index, test_index in tss.split(X, y):\n",
    "  X_train, X_test = X[train_index], X[test_index]\n",
    "  y_train, y_test = y[train_index], y[test_index]\n",
    "  nb.fit(X_train, y_train)\n",
    "  y_pred = nb.predict(X_test)\n",
    "  mcc_scores.append(round(matthews_corrcoef(y_test,y_pred),2))\n",
    "  acc_scores.append(round(accuracy_score(y_test,y_pred),2))\n",
    "  f1_scores.append(round(f1_score(y_test,y_pred, average='weighted'),2))\n",
    "  ConfusionMatrixDisplay.from_estimator(nb, X_test, y_test)\n",
    "\n",
    "print(\"MCC\", round(np.mean(mcc_scores),2))\n",
    "print(\"Accuracy\", round(np.mean(acc_scores),2))\n",
    "print(\"F1\", round(np.mean(f1_scores),2))"
   ]
  },
  {
   "cell_type": "markdown",
   "metadata": {},
   "source": [
    "SVC"
   ]
  },
  {
   "cell_type": "code",
   "execution_count": null,
   "metadata": {},
   "outputs": [],
   "source": [
    "svc = SVC(class_weight='balanced')\n",
    "mcc_scores = list()\n",
    "acc_scores = list()\n",
    "f1_scores = list()\n",
    "\n",
    "for train_index, test_index in tss.split(X, y):\n",
    "  X_train, X_test = X[train_index], X[test_index]\n",
    "  y_train, y_test = y[train_index], y[test_index]\n",
    "  svc.fit(X_train, y_train)\n",
    "  y_pred = svc.predict(X_test)\n",
    "  mcc_scores.append(round(matthews_corrcoef(y_test,y_pred),2))\n",
    "  acc_scores.append(round(accuracy_score(y_test,y_pred),2))\n",
    "  f1_scores.append(round(f1_score(y_test,y_pred, average='weighted'),2))\n",
    "  ConfusionMatrixDisplay.from_estimator(svc, X_test, y_test)\n",
    "\n",
    "print(\"MCC\", round(np.mean(mcc_scores),2))\n",
    "print(\"Accuracy\", round(np.mean(acc_scores),2))\n",
    "print(\"F1\", round(np.mean(f1_scores),2))"
   ]
  },
  {
   "cell_type": "markdown",
   "metadata": {},
   "source": [
    "DT"
   ]
  },
  {
   "cell_type": "code",
   "execution_count": null,
   "metadata": {},
   "outputs": [],
   "source": [
    "dt = DecisionTreeClassifier()\n",
    "mcc_scores = list()\n",
    "acc_scores = list()\n",
    "f1_scores = list()\n",
    "\n",
    "for train_index, test_index in tss.split(X, y):\n",
    "  X_train, X_test = X[train_index], X[test_index]\n",
    "  y_train, y_test = y[train_index], y[test_index]\n",
    "  dt.fit(X_train, y_train)\n",
    "  y_pred = dt.predict(X_test)\n",
    "  mcc_scores.append(round(matthews_corrcoef(y_test,y_pred),2))\n",
    "  acc_scores.append(round(accuracy_score(y_test,y_pred),2))\n",
    "  f1_scores.append(round(f1_score(y_test,y_pred, average='weighted'),2))\n",
    "  ConfusionMatrixDisplay.from_estimator(dt, X_test, y_test)\n",
    "\n",
    "print(\"MCC\", round(np.mean(mcc_scores),2))\n",
    "print(\"Accuracy\", round(np.mean(acc_scores),2))\n",
    "print(\"F1\", round(np.mean(f1_scores),2))"
   ]
  },
  {
   "cell_type": "markdown",
   "metadata": {},
   "source": [
    "RF"
   ]
  },
  {
   "cell_type": "code",
   "execution_count": null,
   "metadata": {},
   "outputs": [],
   "source": [
    "rf = RandomForestClassifier()\n",
    "mcc_scores = list()\n",
    "acc_scores = list()\n",
    "f1_scores = list()\n",
    "\n",
    "for train_index, test_index in tss.split(X, y):\n",
    "  X_train, X_test = X[train_index], X[test_index]\n",
    "  y_train, y_test = y[train_index], y[test_index]\n",
    "  rf.fit(X_train, y_train)\n",
    "  y_pred = rf.predict(X_test)\n",
    "  mcc_scores.append(round(matthews_corrcoef(y_test,y_pred),2))\n",
    "  acc_scores.append(round(accuracy_score(y_test,y_pred),2))\n",
    "  f1_scores.append(round(f1_score(y_test,y_pred, average='weighted'),2))\n",
    "  ConfusionMatrixDisplay.from_estimator(rf, X_test, y_test)\n",
    "\n",
    "print(\"MCC\", round(np.mean(mcc_scores),2))\n",
    "print(\"Accuracy\", round(np.mean(acc_scores),2))\n",
    "print(\"F1\", round(np.mean(f1_scores),2))"
   ]
  },
  {
   "cell_type": "markdown",
   "metadata": {},
   "source": [
    "GB"
   ]
  },
  {
   "cell_type": "code",
   "execution_count": null,
   "metadata": {},
   "outputs": [],
   "source": [
    "gb = XGBClassifier()\n",
    "mcc_scores = list()\n",
    "acc_scores = list()\n",
    "f1_scores = list()\n",
    "\n",
    "for train_index, test_index in tss.split(X, y):\n",
    "  X_train, X_test = X[train_index], X[test_index]\n",
    "  y_train, y_test = y[train_index], y[test_index]\n",
    "  gb.fit(X_train, y_train)\n",
    "  y_pred = gb.predict(X_test)\n",
    "  mcc_scores.append(round(matthews_corrcoef(y_test,y_pred),2))\n",
    "  acc_scores.append(round(accuracy_score(y_test,y_pred),2))\n",
    "  f1_scores.append(round(f1_score(y_test,y_pred, average='weighted'),2))\n",
    "  ConfusionMatrixDisplay.from_estimator(gb, X_test, y_test)\n",
    "\n",
    "print(\"MCC\", round(np.mean(mcc_scores),2))\n",
    "print(\"Accuracy\", round(np.mean(acc_scores),2))\n",
    "print(\"F1\", round(np.mean(f1_scores),2))"
   ]
  },
  {
   "cell_type": "markdown",
   "metadata": {},
   "source": [
    "MLP"
   ]
  },
  {
   "cell_type": "code",
   "execution_count": null,
   "metadata": {},
   "outputs": [],
   "source": [
    "mlp = MLPClassifier()\n",
    "mcc_scores = list()\n",
    "acc_scores = list()\n",
    "f1_scores = list()\n",
    "\n",
    "for train_index, test_index in tss.split(X, y):\n",
    "  X_train, X_test = X[train_index], X[test_index]\n",
    "  y_train, y_test = y[train_index], y[test_index]\n",
    "  mlp.fit(X_train, y_train)\n",
    "  y_pred = mlp.predict(X_test)\n",
    "  mcc_scores.append(round(matthews_corrcoef(y_test,y_pred),2))\n",
    "  acc_scores.append(round(accuracy_score(y_test,y_pred),2))\n",
    "  f1_scores.append(round(f1_score(y_test,y_pred, average='weighted'),2))\n",
    "  ConfusionMatrixDisplay.from_estimator(mlp, X_test, y_test)\n",
    "\n",
    "print(\"MCC\", round(np.mean(mcc_scores),2))\n",
    "print(\"Accuracy\", round(np.mean(acc_scores),2))\n",
    "print(\"F1\", round(np.mean(f1_scores),2))"
   ]
  }
 ],
 "metadata": {
  "interpreter": {
   "hash": "8a98825134ff8ede45dc7c86b38b3b5fbe3144690d83619ea9060570621c6e61"
  },
  "kernelspec": {
   "display_name": "Python 3.9.0 64-bit",
   "language": "python",
   "name": "python3"
  },
  "language_info": {
   "codemirror_mode": {
    "name": "ipython",
    "version": 3
   },
   "file_extension": ".py",
   "mimetype": "text/x-python",
   "name": "python",
   "nbconvert_exporter": "python",
   "pygments_lexer": "ipython3",
   "version": "3.9.0"
  },
  "orig_nbformat": 4
 },
 "nbformat": 4,
 "nbformat_minor": 2
}
