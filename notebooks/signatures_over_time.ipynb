{
 "cells": [
  {
   "cell_type": "code",
   "execution_count": null,
   "metadata": {},
   "outputs": [],
   "source": [
    "from ptracking.database.database import cursor\n",
    "\n",
    "with cursor() as curr:\n",
    "    curr.execute(\"SELECT created_at, signatures FROM petition WHERE state = 'closed' ORDER BY created_at ASC\")\n",
    "    res = curr.fetchall()\n"
   ]
  },
  {
   "cell_type": "code",
   "execution_count": null,
   "metadata": {},
   "outputs": [],
   "source": [
    "import matplotlib.pyplot as plt\n",
    "\n",
    "dates = []\n",
    "signatures = []\n",
    "for date, count in res:\n",
    "    dates.append(date)\n",
    "    signatures.append(count)\n",
    "plt.plot(dates, signatures)"
   ]
  },
  {
   "cell_type": "code",
   "execution_count": 15,
   "metadata": {},
   "outputs": [
    {
     "name": "stdout",
     "output_type": "stream",
     "text": [
      "119\n",
      "[(datetime.datetime(2011, 7, 29, 16, 16, 17), datetime.datetime(2011, 8, 28, 16, 16, 17)), (datetime.datetime(2011, 8, 28, 16, 16, 17), datetime.datetime(2011, 9, 27, 16, 16, 17)), (datetime.datetime(2011, 9, 27, 16, 16, 17), datetime.datetime(2011, 10, 27, 16, 16, 17)), (datetime.datetime(2011, 10, 27, 16, 16, 17), datetime.datetime(2011, 11, 26, 16, 16, 17)), (datetime.datetime(2011, 11, 26, 16, 16, 17), datetime.datetime(2011, 12, 26, 16, 16, 17))]\n"
     ]
    }
   ],
   "source": [
    "import datetime\n",
    "\n",
    "window = 30\n",
    "start_date = datetime.datetime(2011, 7, 29, 16, 16, 17)\n",
    "end_date = datetime.datetime(2021, 5, 29, 12, 36, 42)\n",
    "total_days = (end_date - start_date).days\n",
    "date_ranges = []\n",
    "for i in range(total_days // window):\n",
    "    date_ranges.append((start_date + datetime.timedelta(i * window), start_date + datetime.timedelta((i+1)* window)))\n",
    "print(date_ranges[:5])"
   ]
  },
  {
   "cell_type": "code",
   "execution_count": 27,
   "metadata": {},
   "outputs": [
    {
     "name": "stdout",
     "output_type": "stream",
     "text": [
      "[8, 0, 2, 3, 1, 0, 3, 1, 1, 2, 0, 1, 1, 1, 0, 3, 1, 0, 1, 1, 2, 2, 0, 1, 1, 0, 0, 1, 1, 0, 1, 2, 2, 2, 0, 1, 1, 0, 0, 1, 0, 0, 1, 1, 0, 0, 0, 0, 4, 5, 2, 1, 4, 1, 1, 3, 6, 0, 4, 2, 1, 0, 2, 4, 4, 1, 0, 4, 1, 0, 0, 0, 0, 0, 334, 380, 297, 250, 244, 358, 317, 292, 280, 279, 277, 301, 240, 277, 320, 261, 237, 336, 323, 614, 371, 280, 250, 307, 243, 275, 118, 0, 0, 0, 367, 654, 300, 315, 348, 333, 314, 384, 447, 325, 431, 489, 383, 364, 283]\n",
      "13898\n"
     ]
    },
    {
     "data": {
      "text/plain": [
       "[<matplotlib.lines.Line2D at 0x7fe79599d5e0>,\n",
       " <matplotlib.lines.Line2D at 0x7fe7b1afe7f0>]"
      ]
     },
     "execution_count": 27,
     "metadata": {},
     "output_type": "execute_result"
    },
    {
     "data": {
      "image/png": "[encoded data removed]",
      "text/plain": [
       "<Figure size 432x288 with 1 Axes>"
      ]
     },
     "metadata": {
      "needs_background": "light"
     },
     "output_type": "display_data"
    }
   ],
   "source": [
    "counts = []\n",
    "with cursor() as curr:\n",
    "    for bin in date_ranges:\n",
    "        curr.execute(\"SELECT count(*) FROM petition WHERE created_at >= %s AND created_at < %s AND state = 'closed'\", bin)\n",
    "        c = curr.fetchone()\n",
    "        counts.append(c[0] if c else 0)\n",
    "\n",
    "print(counts)\n",
    "print(sum(counts))"
   ]
  },
  {
   "cell_type": "code",
   "execution_count": 31,
   "metadata": {},
   "outputs": [
    {
     "ename": "TypeError",
     "evalue": "'tuple' object is not callable",
     "output_type": "error",
     "traceback": [
      "\u001b[0;31m---------------------------------------------------------------------------\u001b[0m",
      "\u001b[0;31mTypeError\u001b[0m                                 Traceback (most recent call last)",
      "\u001b[0;32m/tmp/ipykernel_63140/4176829284.py\u001b[0m in \u001b[0;36m<module>\u001b[0;34m\u001b[0m\n\u001b[0;32m----> 1\u001b[0;31m \u001b[0mplt\u001b[0m\u001b[0;34m.\u001b[0m\u001b[0mbar\u001b[0m\u001b[0;34m(\u001b[0m\u001b[0mrange\u001b[0m\u001b[0;34m(\u001b[0m\u001b[0mlen\u001b[0m\u001b[0;34m(\u001b[0m\u001b[0mcounts\u001b[0m\u001b[0;34m)\u001b[0m\u001b[0;34m)\u001b[0m\u001b[0;34m,\u001b[0m \u001b[0mcounts\u001b[0m\u001b[0;34m)\u001b[0m\u001b[0;34m\u001b[0m\u001b[0;34m\u001b[0m\u001b[0m\n\u001b[0m",
      "\u001b[0;31mTypeError\u001b[0m: 'tuple' object is not callable"
     ]
    }
   ],
   "source": [
    "plt.bar(range(len(counts)), counts)"
   ]
  }
 ],
 "metadata": {
  "interpreter": {
   "hash": "1eab318412d6780a767bf7e216f1ff79f6ae242ff27382bf2a7add7bb6f292b3"
  },
  "kernelspec": {
   "display_name": "Python 3.8.12 64-bit ('venv': conda)",
   "language": "python",
   "name": "python3"
  },
  "language_info": {
   "codemirror_mode": {
    "name": "ipython",
    "version": 3
   },
   "file_extension": ".py",
   "mimetype": "text/x-python",
   "name": "python",
   "nbconvert_exporter": "python",
   "pygments_lexer": "ipython3",
   "version": "3.8.12"
  },
  "orig_nbformat": 4
 },
 "nbformat": 4,
 "nbformat_minor": 2
}
